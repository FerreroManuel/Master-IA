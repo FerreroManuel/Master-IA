{
 "cells": [
  {
   "cell_type": "markdown",
   "metadata": {},
   "source": [
    "# Importación de módulos"
   ]
  },
  {
   "cell_type": "code",
   "execution_count": 1,
   "metadata": {},
   "outputs": [],
   "source": [
    "import pandas as pd\n",
    "import numpy as np\n",
    "import matplotlib.pyplot as plt\n",
    "import seaborn as sns"
   ]
  },
  {
   "cell_type": "markdown",
   "metadata": {},
   "source": [
    "# Creación del dataframe"
   ]
  },
  {
   "cell_type": "code",
   "execution_count": 2,
   "metadata": {},
   "outputs": [],
   "source": [
    "# Lectura de datos históricos\n",
    "df = pd.read_csv('./datasets/info_prestamos.csv', encoding=\"ISO-8859-1\", delimiter=',')"
   ]
  },
  {
   "cell_type": "markdown",
   "metadata": {},
   "source": [
    "**INFORMACIÓN DEL DATASET**\n",
    "\n",
    "https://www.kaggle.com/kunalvsingh93/banking-model-multiclass-classification?select=train_loan.csv\n",
    "\n",
    "The process, defined as ‘risk-based pricing’, uses a sophisticated algorithm that leverages different determining factors of a loan applicant. Selection of significant factors will help develop a prediction algorithm which can estimate loan interest rates based on clients’ information. On one hand, knowing the factors will help consumers and borrowers to increase their credit worthiness and place themselves in a better position to negotiate for getting a lower interest rate. On the other hand, this will help lending companies to get an immediate fixed interest rate estimation based on clients information. Here, your goal is to use a training dataset to predict the loan rate category (1 / 2 / 3) that will be assigned to each loan in our test set.\n",
    "\n",
    "Interest_Rate --> Tasa de interés asignada, a mayor valor se considera mayor riesgo y por tanto tasa más elevada\n"
   ]
  },
  {
   "cell_type": "code",
   "execution_count": 3,
   "metadata": {},
   "outputs": [
    {
     "data": {
      "text/html": [
       "<div>\n",
       "<style scoped>\n",
       "    .dataframe tbody tr th:only-of-type {\n",
       "        vertical-align: middle;\n",
       "    }\n",
       "\n",
       "    .dataframe tbody tr th {\n",
       "        vertical-align: top;\n",
       "    }\n",
       "\n",
       "    .dataframe thead th {\n",
       "        text-align: right;\n",
       "    }\n",
       "</style>\n",
       "<table border=\"1\" class=\"dataframe\">\n",
       "  <thead>\n",
       "    <tr style=\"text-align: right;\">\n",
       "      <th></th>\n",
       "      <th>Loan_ID</th>\n",
       "      <th>Loan_Amount_Requested</th>\n",
       "      <th>Length_Employed</th>\n",
       "      <th>Home_Owner</th>\n",
       "      <th>Annual_Income</th>\n",
       "      <th>Income_Verified</th>\n",
       "      <th>Purpose_Of_Loan</th>\n",
       "      <th>Debt_To_Income</th>\n",
       "      <th>Inquiries_Last_6Mo</th>\n",
       "      <th>Months_Since_Deliquency</th>\n",
       "      <th>Number_Open_Accounts</th>\n",
       "      <th>Total_Accounts</th>\n",
       "      <th>Gender</th>\n",
       "      <th>Interest_Rate</th>\n",
       "    </tr>\n",
       "  </thead>\n",
       "  <tbody>\n",
       "    <tr>\n",
       "      <th>0</th>\n",
       "      <td>10000001</td>\n",
       "      <td>7,000</td>\n",
       "      <td>&lt; 1 year</td>\n",
       "      <td>Rent</td>\n",
       "      <td>68000.0</td>\n",
       "      <td>not verified</td>\n",
       "      <td>car</td>\n",
       "      <td>18.37</td>\n",
       "      <td>0</td>\n",
       "      <td>NaN</td>\n",
       "      <td>9</td>\n",
       "      <td>14</td>\n",
       "      <td>Female</td>\n",
       "      <td>1</td>\n",
       "    </tr>\n",
       "    <tr>\n",
       "      <th>1</th>\n",
       "      <td>10000002</td>\n",
       "      <td>30,000</td>\n",
       "      <td>4 years</td>\n",
       "      <td>Mortgage</td>\n",
       "      <td>NaN</td>\n",
       "      <td>VERIFIED - income</td>\n",
       "      <td>debt_consolidation</td>\n",
       "      <td>14.93</td>\n",
       "      <td>0</td>\n",
       "      <td>17.0</td>\n",
       "      <td>12</td>\n",
       "      <td>24</td>\n",
       "      <td>Female</td>\n",
       "      <td>3</td>\n",
       "    </tr>\n",
       "    <tr>\n",
       "      <th>2</th>\n",
       "      <td>10000003</td>\n",
       "      <td>24,725</td>\n",
       "      <td>7 years</td>\n",
       "      <td>Mortgage</td>\n",
       "      <td>75566.4</td>\n",
       "      <td>VERIFIED - income source</td>\n",
       "      <td>debt_consolidation</td>\n",
       "      <td>15.88</td>\n",
       "      <td>0</td>\n",
       "      <td>NaN</td>\n",
       "      <td>12</td>\n",
       "      <td>16</td>\n",
       "      <td>Male</td>\n",
       "      <td>3</td>\n",
       "    </tr>\n",
       "    <tr>\n",
       "      <th>3</th>\n",
       "      <td>10000004</td>\n",
       "      <td>16,000</td>\n",
       "      <td>&lt; 1 year</td>\n",
       "      <td>NaN</td>\n",
       "      <td>56160.0</td>\n",
       "      <td>VERIFIED - income source</td>\n",
       "      <td>debt_consolidation</td>\n",
       "      <td>14.34</td>\n",
       "      <td>3</td>\n",
       "      <td>NaN</td>\n",
       "      <td>16</td>\n",
       "      <td>22</td>\n",
       "      <td>Male</td>\n",
       "      <td>3</td>\n",
       "    </tr>\n",
       "    <tr>\n",
       "      <th>4</th>\n",
       "      <td>10000005</td>\n",
       "      <td>17,000</td>\n",
       "      <td>8 years</td>\n",
       "      <td>Own</td>\n",
       "      <td>96000.0</td>\n",
       "      <td>VERIFIED - income source</td>\n",
       "      <td>debt_consolidation</td>\n",
       "      <td>22.17</td>\n",
       "      <td>1</td>\n",
       "      <td>NaN</td>\n",
       "      <td>19</td>\n",
       "      <td>30</td>\n",
       "      <td>Female</td>\n",
       "      <td>1</td>\n",
       "    </tr>\n",
       "  </tbody>\n",
       "</table>\n",
       "</div>"
      ],
      "text/plain": [
       "    Loan_ID Loan_Amount_Requested Length_Employed Home_Owner  Annual_Income  \\\n",
       "0  10000001                 7,000        < 1 year       Rent        68000.0   \n",
       "1  10000002                30,000         4 years   Mortgage            NaN   \n",
       "2  10000003                24,725         7 years   Mortgage        75566.4   \n",
       "3  10000004                16,000        < 1 year        NaN        56160.0   \n",
       "4  10000005                17,000         8 years        Own        96000.0   \n",
       "\n",
       "            Income_Verified     Purpose_Of_Loan  Debt_To_Income  \\\n",
       "0              not verified                 car           18.37   \n",
       "1         VERIFIED - income  debt_consolidation           14.93   \n",
       "2  VERIFIED - income source  debt_consolidation           15.88   \n",
       "3  VERIFIED - income source  debt_consolidation           14.34   \n",
       "4  VERIFIED - income source  debt_consolidation           22.17   \n",
       "\n",
       "   Inquiries_Last_6Mo  Months_Since_Deliquency  Number_Open_Accounts  \\\n",
       "0                   0                      NaN                     9   \n",
       "1                   0                     17.0                    12   \n",
       "2                   0                      NaN                    12   \n",
       "3                   3                      NaN                    16   \n",
       "4                   1                      NaN                    19   \n",
       "\n",
       "   Total_Accounts  Gender  Interest_Rate  \n",
       "0              14  Female              1  \n",
       "1              24  Female              3  \n",
       "2              16    Male              3  \n",
       "3              22    Male              3  \n",
       "4              30  Female              1  "
      ]
     },
     "execution_count": 3,
     "metadata": {},
     "output_type": "execute_result"
    }
   ],
   "source": [
    "df.head()"
   ]
  },
  {
   "cell_type": "code",
   "execution_count": 4,
   "metadata": {},
   "outputs": [
    {
     "name": "stdout",
     "output_type": "stream",
     "text": [
      "<class 'pandas.core.frame.DataFrame'>\n",
      "RangeIndex: 164309 entries, 0 to 164308\n",
      "Data columns (total 14 columns):\n",
      " #   Column                   Non-Null Count   Dtype  \n",
      "---  ------                   --------------   -----  \n",
      " 0   Loan_ID                  164309 non-null  int64  \n",
      " 1   Loan_Amount_Requested    164309 non-null  object \n",
      " 2   Length_Employed          156938 non-null  object \n",
      " 3   Home_Owner               138960 non-null  object \n",
      " 4   Annual_Income            139207 non-null  float64\n",
      " 5   Income_Verified          164309 non-null  object \n",
      " 6   Purpose_Of_Loan          164309 non-null  object \n",
      " 7   Debt_To_Income           164309 non-null  float64\n",
      " 8   Inquiries_Last_6Mo       164309 non-null  int64  \n",
      " 9   Months_Since_Deliquency  75930 non-null   float64\n",
      " 10  Number_Open_Accounts     164309 non-null  int64  \n",
      " 11  Total_Accounts           164309 non-null  int64  \n",
      " 12  Gender                   164309 non-null  object \n",
      " 13  Interest_Rate            164309 non-null  int64  \n",
      "dtypes: float64(3), int64(5), object(6)\n",
      "memory usage: 17.6+ MB\n"
     ]
    }
   ],
   "source": [
    "df.info()"
   ]
  },
  {
   "cell_type": "code",
   "execution_count": 5,
   "metadata": {},
   "outputs": [
    {
     "data": {
      "text/plain": [
       "Loan_ID                        0\n",
       "Loan_Amount_Requested          0\n",
       "Length_Employed             7371\n",
       "Home_Owner                 25349\n",
       "Annual_Income              25102\n",
       "Income_Verified                0\n",
       "Purpose_Of_Loan                0\n",
       "Debt_To_Income                 0\n",
       "Inquiries_Last_6Mo             0\n",
       "Months_Since_Deliquency    88379\n",
       "Number_Open_Accounts           0\n",
       "Total_Accounts                 0\n",
       "Gender                         0\n",
       "Interest_Rate                  0\n",
       "dtype: int64"
      ]
     },
     "execution_count": 5,
     "metadata": {},
     "output_type": "execute_result"
    }
   ],
   "source": [
    "df.isnull().sum()"
   ]
  },
  {
   "cell_type": "markdown",
   "metadata": {},
   "source": [
    "# Limpieza **inicial** del dataframe"
   ]
  },
  {
   "cell_type": "code",
   "execution_count": 6,
   "metadata": {},
   "outputs": [
    {
     "data": {
      "text/html": [
       "<div>\n",
       "<style scoped>\n",
       "    .dataframe tbody tr th:only-of-type {\n",
       "        vertical-align: middle;\n",
       "    }\n",
       "\n",
       "    .dataframe tbody tr th {\n",
       "        vertical-align: top;\n",
       "    }\n",
       "\n",
       "    .dataframe thead th {\n",
       "        text-align: right;\n",
       "    }\n",
       "</style>\n",
       "<table border=\"1\" class=\"dataframe\">\n",
       "  <thead>\n",
       "    <tr style=\"text-align: right;\">\n",
       "      <th></th>\n",
       "      <th>Loan_ID</th>\n",
       "      <th>Loan_Amount_Requested</th>\n",
       "      <th>Length_Employed</th>\n",
       "      <th>Home_Owner</th>\n",
       "      <th>Annual_Income</th>\n",
       "      <th>Income_Verified</th>\n",
       "      <th>Purpose_Of_Loan</th>\n",
       "      <th>Debt_To_Income</th>\n",
       "      <th>Inquiries_Last_6Mo</th>\n",
       "      <th>Number_Open_Accounts</th>\n",
       "      <th>Total_Accounts</th>\n",
       "      <th>Gender</th>\n",
       "      <th>Interest_Rate</th>\n",
       "    </tr>\n",
       "  </thead>\n",
       "  <tbody>\n",
       "    <tr>\n",
       "      <th>0</th>\n",
       "      <td>10000001</td>\n",
       "      <td>7,000</td>\n",
       "      <td>&lt; 1 year</td>\n",
       "      <td>Rent</td>\n",
       "      <td>68000.0</td>\n",
       "      <td>not verified</td>\n",
       "      <td>car</td>\n",
       "      <td>18.37</td>\n",
       "      <td>0</td>\n",
       "      <td>9</td>\n",
       "      <td>14</td>\n",
       "      <td>Female</td>\n",
       "      <td>1</td>\n",
       "    </tr>\n",
       "    <tr>\n",
       "      <th>1</th>\n",
       "      <td>10000002</td>\n",
       "      <td>30,000</td>\n",
       "      <td>4 years</td>\n",
       "      <td>Mortgage</td>\n",
       "      <td>NaN</td>\n",
       "      <td>VERIFIED - income</td>\n",
       "      <td>debt_consolidation</td>\n",
       "      <td>14.93</td>\n",
       "      <td>0</td>\n",
       "      <td>12</td>\n",
       "      <td>24</td>\n",
       "      <td>Female</td>\n",
       "      <td>3</td>\n",
       "    </tr>\n",
       "    <tr>\n",
       "      <th>2</th>\n",
       "      <td>10000003</td>\n",
       "      <td>24,725</td>\n",
       "      <td>7 years</td>\n",
       "      <td>Mortgage</td>\n",
       "      <td>75566.4</td>\n",
       "      <td>VERIFIED - income source</td>\n",
       "      <td>debt_consolidation</td>\n",
       "      <td>15.88</td>\n",
       "      <td>0</td>\n",
       "      <td>12</td>\n",
       "      <td>16</td>\n",
       "      <td>Male</td>\n",
       "      <td>3</td>\n",
       "    </tr>\n",
       "    <tr>\n",
       "      <th>3</th>\n",
       "      <td>10000004</td>\n",
       "      <td>16,000</td>\n",
       "      <td>&lt; 1 year</td>\n",
       "      <td>NaN</td>\n",
       "      <td>56160.0</td>\n",
       "      <td>VERIFIED - income source</td>\n",
       "      <td>debt_consolidation</td>\n",
       "      <td>14.34</td>\n",
       "      <td>3</td>\n",
       "      <td>16</td>\n",
       "      <td>22</td>\n",
       "      <td>Male</td>\n",
       "      <td>3</td>\n",
       "    </tr>\n",
       "    <tr>\n",
       "      <th>4</th>\n",
       "      <td>10000005</td>\n",
       "      <td>17,000</td>\n",
       "      <td>8 years</td>\n",
       "      <td>Own</td>\n",
       "      <td>96000.0</td>\n",
       "      <td>VERIFIED - income source</td>\n",
       "      <td>debt_consolidation</td>\n",
       "      <td>22.17</td>\n",
       "      <td>1</td>\n",
       "      <td>19</td>\n",
       "      <td>30</td>\n",
       "      <td>Female</td>\n",
       "      <td>1</td>\n",
       "    </tr>\n",
       "  </tbody>\n",
       "</table>\n",
       "</div>"
      ],
      "text/plain": [
       "    Loan_ID Loan_Amount_Requested Length_Employed Home_Owner  Annual_Income  \\\n",
       "0  10000001                 7,000        < 1 year       Rent        68000.0   \n",
       "1  10000002                30,000         4 years   Mortgage            NaN   \n",
       "2  10000003                24,725         7 years   Mortgage        75566.4   \n",
       "3  10000004                16,000        < 1 year        NaN        56160.0   \n",
       "4  10000005                17,000         8 years        Own        96000.0   \n",
       "\n",
       "            Income_Verified     Purpose_Of_Loan  Debt_To_Income  \\\n",
       "0              not verified                 car           18.37   \n",
       "1         VERIFIED - income  debt_consolidation           14.93   \n",
       "2  VERIFIED - income source  debt_consolidation           15.88   \n",
       "3  VERIFIED - income source  debt_consolidation           14.34   \n",
       "4  VERIFIED - income source  debt_consolidation           22.17   \n",
       "\n",
       "   Inquiries_Last_6Mo  Number_Open_Accounts  Total_Accounts  Gender  \\\n",
       "0                   0                     9              14  Female   \n",
       "1                   0                    12              24  Female   \n",
       "2                   0                    12              16    Male   \n",
       "3                   3                    16              22    Male   \n",
       "4                   1                    19              30  Female   \n",
       "\n",
       "   Interest_Rate  \n",
       "0              1  \n",
       "1              3  \n",
       "2              3  \n",
       "3              3  \n",
       "4              1  "
      ]
     },
     "execution_count": 6,
     "metadata": {},
     "output_type": "execute_result"
    }
   ],
   "source": [
    "\"\"\"\n",
    "Si una columna tiene un alto porcentaje de valores nulos, no conviene utilizarla como variable\n",
    "\"\"\"\n",
    "# Eliminamos las variables con alto porcentaje de valores nulos\n",
    "\n",
    "#   Creamos una serie de pandas con el número de valores nulos de cada variable\n",
    "\"\"\"\n",
    "    Una serie es un dataframe de una sola columna. En este caso creamos las cabeceras con su respectiva cantidad de valores nulos.\n",
    "\"\"\"\n",
    "df_var = df.isnull().sum()\n",
    "\n",
    "#   Establecemos un porcentaje como límite para valores nulos (20%)\n",
    "\"\"\"\n",
    "En este caso seleccionamos un porcentaje alto debido que con un porcentaje inferior eliminaríamos columnas importantes para el cálculo de la \n",
    "capacidad crediticia como el ingreso anual y la posesión de inmueble.\n",
    "\"\"\"\n",
    "pcje_eliminacion = .2\n",
    "\n",
    "#   Dejamos unicamente las variables que tienen un porcentaje de valores nulos menor al límite establecido\n",
    "df_var = df_var[df_var<pcje_eliminacion*len(df)]\n",
    "\n",
    "#   Creamos una lista con los nombres de las variables que nos interesan (los índices de de la serie)\n",
    "lista_variables_OK = df_var.index\n",
    "\n",
    "#   Filtramos el dataframe original y nos quedamos unicamente con las columnas que cumplen nuestros requisitos\n",
    "df = df[lista_variables_OK]\n",
    "\n",
    "# Vemos como va quedando el dataframe\n",
    "df.head()"
   ]
  },
  {
   "cell_type": "code",
   "execution_count": 7,
   "metadata": {},
   "outputs": [
    {
     "data": {
      "text/html": [
       "<div>\n",
       "<style scoped>\n",
       "    .dataframe tbody tr th:only-of-type {\n",
       "        vertical-align: middle;\n",
       "    }\n",
       "\n",
       "    .dataframe tbody tr th {\n",
       "        vertical-align: top;\n",
       "    }\n",
       "\n",
       "    .dataframe thead th {\n",
       "        text-align: right;\n",
       "    }\n",
       "</style>\n",
       "<table border=\"1\" class=\"dataframe\">\n",
       "  <thead>\n",
       "    <tr style=\"text-align: right;\">\n",
       "      <th></th>\n",
       "      <th>count</th>\n",
       "      <th>mean</th>\n",
       "      <th>std</th>\n",
       "      <th>min</th>\n",
       "      <th>25%</th>\n",
       "      <th>50%</th>\n",
       "      <th>75%</th>\n",
       "      <th>max</th>\n",
       "    </tr>\n",
       "  </thead>\n",
       "  <tbody>\n",
       "    <tr>\n",
       "      <th>Loan_ID</th>\n",
       "      <td>164309.0</td>\n",
       "      <td>1.008216e+07</td>\n",
       "      <td>47432.067027</td>\n",
       "      <td>10000001.0</td>\n",
       "      <td>10041078.00</td>\n",
       "      <td>10082155.00</td>\n",
       "      <td>10123232.00</td>\n",
       "      <td>10164309.00</td>\n",
       "    </tr>\n",
       "    <tr>\n",
       "      <th>Annual_Income</th>\n",
       "      <td>139207.0</td>\n",
       "      <td>7.333116e+04</td>\n",
       "      <td>60377.498294</td>\n",
       "      <td>4000.0</td>\n",
       "      <td>45000.00</td>\n",
       "      <td>63000.00</td>\n",
       "      <td>88697.50</td>\n",
       "      <td>7500000.00</td>\n",
       "    </tr>\n",
       "    <tr>\n",
       "      <th>Debt_To_Income</th>\n",
       "      <td>164309.0</td>\n",
       "      <td>1.720719e+01</td>\n",
       "      <td>7.845083</td>\n",
       "      <td>0.0</td>\n",
       "      <td>11.37</td>\n",
       "      <td>16.84</td>\n",
       "      <td>22.78</td>\n",
       "      <td>39.99</td>\n",
       "    </tr>\n",
       "    <tr>\n",
       "      <th>Inquiries_Last_6Mo</th>\n",
       "      <td>164309.0</td>\n",
       "      <td>7.816979e-01</td>\n",
       "      <td>1.034747</td>\n",
       "      <td>0.0</td>\n",
       "      <td>0.00</td>\n",
       "      <td>0.00</td>\n",
       "      <td>1.00</td>\n",
       "      <td>8.00</td>\n",
       "    </tr>\n",
       "    <tr>\n",
       "      <th>Number_Open_Accounts</th>\n",
       "      <td>164309.0</td>\n",
       "      <td>1.119382e+01</td>\n",
       "      <td>4.991813</td>\n",
       "      <td>0.0</td>\n",
       "      <td>8.00</td>\n",
       "      <td>10.00</td>\n",
       "      <td>14.00</td>\n",
       "      <td>76.00</td>\n",
       "    </tr>\n",
       "    <tr>\n",
       "      <th>Total_Accounts</th>\n",
       "      <td>164309.0</td>\n",
       "      <td>2.506767e+01</td>\n",
       "      <td>11.583067</td>\n",
       "      <td>2.0</td>\n",
       "      <td>17.00</td>\n",
       "      <td>23.00</td>\n",
       "      <td>32.00</td>\n",
       "      <td>156.00</td>\n",
       "    </tr>\n",
       "    <tr>\n",
       "      <th>Interest_Rate</th>\n",
       "      <td>164309.0</td>\n",
       "      <td>2.158951e+00</td>\n",
       "      <td>0.738364</td>\n",
       "      <td>1.0</td>\n",
       "      <td>2.00</td>\n",
       "      <td>2.00</td>\n",
       "      <td>3.00</td>\n",
       "      <td>3.00</td>\n",
       "    </tr>\n",
       "  </tbody>\n",
       "</table>\n",
       "</div>"
      ],
      "text/plain": [
       "                         count          mean           std         min  \\\n",
       "Loan_ID               164309.0  1.008216e+07  47432.067027  10000001.0   \n",
       "Annual_Income         139207.0  7.333116e+04  60377.498294      4000.0   \n",
       "Debt_To_Income        164309.0  1.720719e+01      7.845083         0.0   \n",
       "Inquiries_Last_6Mo    164309.0  7.816979e-01      1.034747         0.0   \n",
       "Number_Open_Accounts  164309.0  1.119382e+01      4.991813         0.0   \n",
       "Total_Accounts        164309.0  2.506767e+01     11.583067         2.0   \n",
       "Interest_Rate         164309.0  2.158951e+00      0.738364         1.0   \n",
       "\n",
       "                              25%          50%          75%          max  \n",
       "Loan_ID               10041078.00  10082155.00  10123232.00  10164309.00  \n",
       "Annual_Income            45000.00     63000.00     88697.50   7500000.00  \n",
       "Debt_To_Income              11.37        16.84        22.78        39.99  \n",
       "Inquiries_Last_6Mo           0.00         0.00         1.00         8.00  \n",
       "Number_Open_Accounts         8.00        10.00        14.00        76.00  \n",
       "Total_Accounts              17.00        23.00        32.00       156.00  \n",
       "Interest_Rate                2.00         2.00         3.00         3.00  "
      ]
     },
     "execution_count": 7,
     "metadata": {},
     "output_type": "execute_result"
    }
   ],
   "source": [
    "# Vemos la información estadística del dataframe\n",
    "df.describe().transpose()"
   ]
  },
  {
   "cell_type": "code",
   "execution_count": 8,
   "metadata": {},
   "outputs": [
    {
     "data": {
      "text/plain": [
       "Loan_ID                      0\n",
       "Loan_Amount_Requested        0\n",
       "Length_Employed           7371\n",
       "Home_Owner               25349\n",
       "Annual_Income            25102\n",
       "Income_Verified              0\n",
       "Purpose_Of_Loan              0\n",
       "Debt_To_Income               0\n",
       "Inquiries_Last_6Mo           0\n",
       "Number_Open_Accounts         0\n",
       "Total_Accounts               0\n",
       "Gender                       0\n",
       "Interest_Rate                0\n",
       "dtype: int64"
      ]
     },
     "execution_count": 8,
     "metadata": {},
     "output_type": "execute_result"
    }
   ],
   "source": [
    "\"\"\"\n",
    "Para lograr un dataframe limpio los registros con valores nulos se deben eliminar, interpolar o correlacionar con otras variables para asignar el promedio\n",
    "en base a la variable con mayor correlación\n",
    "\"\"\"\n",
    "\n",
    "# Verificamos las columnas que contienen valores nulos\n",
    "df.isnull().sum()"
   ]
  },
  {
   "cell_type": "code",
   "execution_count": 9,
   "metadata": {},
   "outputs": [
    {
     "data": {
      "text/plain": [
       "array(['< 1 year', '4 years', '7 years', '8 years', '2 years',\n",
       "       '10+ years', '1 year', nan, '6 years', '9 years', '3 years',\n",
       "       '5 years'], dtype=object)"
      ]
     },
     "execution_count": 9,
     "metadata": {},
     "output_type": "execute_result"
    }
   ],
   "source": [
    "\"\"\"\n",
    "Comenzamos con la limpieza de Length_Employed\n",
    "\"\"\"\n",
    "\n",
    "# Vemos los valores únicos de la columna Length_Employed\n",
    "df['Length_Employed'].unique()"
   ]
  },
  {
   "cell_type": "code",
   "execution_count": 10,
   "metadata": {},
   "outputs": [
    {
     "data": {
      "text/plain": [
       "0          0.0\n",
       "1          4.0\n",
       "2          7.0\n",
       "3          0.0\n",
       "4          8.0\n",
       "          ... \n",
       "164304    10.0\n",
       "164305     8.0\n",
       "164306    10.0\n",
       "164307     4.0\n",
       "164308    10.0\n",
       "Name: Length_Employed, Length: 164309, dtype: float64"
      ]
     },
     "execution_count": 10,
     "metadata": {},
     "output_type": "execute_result"
    }
   ],
   "source": [
    "# Reemplazamos el valor '< 1 year' por '0 years' para diferenciarlo de '1 year'\n",
    "df['Length_Employed'] = df['Length_Employed'].str.replace('< 1 year', '0 years')\n",
    "\n",
    "# Extraemos el caracter numérico de cada uno de los valores\n",
    "df['Length_Employed'] = df['Length_Employed'].str.extract('(\\d+)')\n",
    "\n",
    "# Convertimos la columna a formato numérico\n",
    "df['Length_Employed'] = df['Length_Employed'].apply(pd.to_numeric)\n",
    "\n",
    "df['Length_Employed']"
   ]
  },
  {
   "cell_type": "code",
   "execution_count": 11,
   "metadata": {},
   "outputs": [
    {
     "name": "stdout",
     "output_type": "stream",
     "text": [
      "Correlación con Length_Employed:\n"
     ]
    },
    {
     "data": {
      "text/plain": [
       "Inquiries_Last_6Mo     -0.006522\n",
       "Loan_ID                 0.000152\n",
       "Interest_Rate           0.030404\n",
       "Number_Open_Accounts    0.037321\n",
       "Debt_To_Income          0.049020\n",
       "Annual_Income           0.069505\n",
       "Total_Accounts          0.111460\n",
       "Length_Employed         1.000000\n",
       "Name: Length_Employed, dtype: float64"
      ]
     },
     "execution_count": 11,
     "metadata": {},
     "output_type": "execute_result"
    }
   ],
   "source": [
    "# Limpiamos los valores erroneos de Length_Employed a partir de la correlación con otras variables\n",
    "print(\"Correlación con Length_Employed:\")\n",
    "df.corr()['Length_Employed'].sort_values()"
   ]
  },
  {
   "cell_type": "code",
   "execution_count": 12,
   "metadata": {},
   "outputs": [
    {
     "name": "stdout",
     "output_type": "stream",
     "text": [
      "Total_Accounts | Promedio Length_Employed\n"
     ]
    },
    {
     "data": {
      "text/plain": [
       "Total_Accounts\n",
       "2       2.500000\n",
       "3       2.709924\n",
       "4       3.662551\n",
       "5       4.180240\n",
       "6       4.260575\n",
       "         ...    \n",
       "99     10.000000\n",
       "102     7.000000\n",
       "105    10.000000\n",
       "116    10.000000\n",
       "156    10.000000\n",
       "Name: Length_Employed, Length: 100, dtype: float64"
      ]
     },
     "execution_count": 12,
     "metadata": {},
     "output_type": "execute_result"
    }
   ],
   "source": [
    "\"\"\"\n",
    "Seleccionamos la variable que mayor correlación tiene con Length_Employed (Total_Accounts) y la utilizamos para completar los valores nulos en \n",
    "la columna Length_Employed\n",
    "\"\"\"\n",
    "# Vemos el promedio de Length_Employed por Total_Accounts\n",
    "print('Total_Accounts | Promedio Length_Employed')\n",
    "df.groupby('Total_Accounts').mean()['Length_Employed']\n"
   ]
  },
  {
   "cell_type": "code",
   "execution_count": 13,
   "metadata": {},
   "outputs": [],
   "source": [
    "# Creamos una variable con esos valores\n",
    "total_acc_avg = df.groupby('Total_Accounts').mean()['Length_Employed']\n",
    "\n",
    "# Creamos una función que retorne el valor (promedio de Length_Employed) correspondiente al índice (Total_accounts) indicado\n",
    "def completar_len_emp(total_acc, len_emp):\n",
    "    if np.isnan(len_emp):\n",
    "        return total_acc_avg[total_acc]\n",
    "    else:\n",
    "        return len_emp\n",
    "\n",
    "# Realizamos la sustitución de los valores nulos de Length_Employed por el promedio correspondiente\n",
    "df['Length_Employed'] = df.apply(lambda x: completar_len_emp(x['Total_Accounts'], x['Length_Employed']), axis=1)"
   ]
  },
  {
   "cell_type": "code",
   "execution_count": 14,
   "metadata": {},
   "outputs": [
    {
     "data": {
      "text/plain": [
       "Loan_ID                      0\n",
       "Loan_Amount_Requested        0\n",
       "Length_Employed              0\n",
       "Home_Owner               25349\n",
       "Annual_Income            25102\n",
       "Income_Verified              0\n",
       "Purpose_Of_Loan              0\n",
       "Debt_To_Income               0\n",
       "Inquiries_Last_6Mo           0\n",
       "Number_Open_Accounts         0\n",
       "Total_Accounts               0\n",
       "Gender                       0\n",
       "Interest_Rate                0\n",
       "dtype: int64"
      ]
     },
     "execution_count": 14,
     "metadata": {},
     "output_type": "execute_result"
    }
   ],
   "source": [
    "# Corroboramos que la cantidad de valores nulos en la columna sea 0\n",
    "df.isnull().sum()"
   ]
  },
  {
   "cell_type": "code",
   "execution_count": 15,
   "metadata": {},
   "outputs": [
    {
     "data": {
      "text/plain": [
       "Mortgage    70345\n",
       "Rent        56031\n",
       "Own         12525\n",
       "Other          49\n",
       "None           10\n",
       "Name: Home_Owner, dtype: int64"
      ]
     },
     "execution_count": 15,
     "metadata": {},
     "output_type": "execute_result"
    }
   ],
   "source": [
    "\"\"\"\n",
    "Seguimos con la limpieza de Home_Owner\n",
    "\"\"\"\n",
    "\n",
    "# Visualizamos la cuenta de valores de la columna\n",
    "df['Home_Owner'].value_counts()"
   ]
  },
  {
   "cell_type": "code",
   "execution_count": 16,
   "metadata": {},
   "outputs": [
    {
     "data": {
      "text/plain": [
       "<AxesSubplot: xlabel='Home_Owner'>"
      ]
     },
     "execution_count": 16,
     "metadata": {},
     "output_type": "execute_result"
    },
    {
     "data": {
      "image/png": "[encoded data removed]",
      "text/plain": [
       "<Figure size 640x480 with 1 Axes>"
      ]
     },
     "metadata": {},
     "output_type": "display_data"
    }
   ],
   "source": [
    "# Calculamos la distribución de valores de la variable objetivo (Interest_Rate) respecto a las diferentes categorías de Home_Owner\n",
    "\n",
    "# Creamos una pivot_table utilizando como índice (eje x) Home_Owner, como columnas Interest_Rate y como valores (eje y) el conteo (aggfunc='count') de cualquier \n",
    "# otra columna. Esto es para obtener la cantidad de registros que posee cada categoría de Interest_Rate para cada categoría de Home_Owner. Esto lo mostramos en\n",
    "# un plot de tipo barras\n",
    "df.pivot_table(index='Home_Owner', columns='Interest_Rate', values='Loan_ID', aggfunc='count').plot(kind='bar')"
   ]
  },
  {
   "cell_type": "markdown",
   "metadata": {},
   "source": [
    "En este gráfico podemos ver que la categoría 2 de Interest_Rate es la que mayor cantidad de casos contiene en todas las categorías de Home_Owner.\n",
    "\n",
    "También podemos ver que la categoría 3 de Interest_Rate contiene, porcentualmente, una mayor cantidad de casos en la categoría Rent de Home_Owner que en el resto.\n",
    "\n",
    "Por otro lado la categoría Mortgage de Home_Owner es la que mayor cantidad de casos en general contiene.\n",
    "\n",
    "De esta forma, decidimos que aquellos registros con valor nulo para Home_Owner y valor 3 de Interest_Rate pasarán a formar parte de Rent. En cambio, aquellos registros con valor nulo para Home_Owner y valor 1 o 2 de Interest_Rate, pasarán a formar parte de Mortgage."
   ]
  },
  {
   "cell_type": "code",
   "execution_count": 17,
   "metadata": {},
   "outputs": [
    {
     "data": {
      "text/plain": [
       "Loan_ID                      0\n",
       "Loan_Amount_Requested        0\n",
       "Length_Employed              0\n",
       "Home_Owner                   0\n",
       "Annual_Income            25102\n",
       "Income_Verified              0\n",
       "Purpose_Of_Loan              0\n",
       "Debt_To_Income               0\n",
       "Inquiries_Last_6Mo           0\n",
       "Number_Open_Accounts         0\n",
       "Total_Accounts               0\n",
       "Gender                       0\n",
       "Interest_Rate                0\n",
       "dtype: int64"
      ]
     },
     "execution_count": 17,
     "metadata": {},
     "output_type": "execute_result"
    }
   ],
   "source": [
    "# Creamos una función que retorne 'Rent' siempre que Home_Owner sea nulo o vacío e Interest_Rate sea 3 y retorne 'Mortgage' siempre que Home_Owner\n",
    "# sea nulo o vacío e Interest_Rate sea 1 o 2\n",
    "\n",
    "def completar_home_owner(home_owner, interest_rate):\n",
    "    if home_owner == '':\n",
    "        if interest_rate == 3:\n",
    "            return 'Rent'\n",
    "        else:\n",
    "            return 'Mortgage'\n",
    "    else:\n",
    "        return home_owner\n",
    "\n",
    "# Reemplazamos los valores nulos por valores vacíos\n",
    "df['Home_Owner'] = df['Home_Owner'].replace(np.nan, '')\n",
    "\n",
    "# Reemplazamos los valores vacíos por los correspondientes según su valor de Interest_Rate\n",
    "df['Home_Owner'] = df.apply(lambda x: completar_home_owner(x['Home_Owner'], x['Interest_Rate']), axis=1)\n",
    "\n",
    "# Corroboramos que ya no poseemos valores nulos\n",
    "df.isnull().sum()"
   ]
  },
  {
   "cell_type": "code",
   "execution_count": 18,
   "metadata": {},
   "outputs": [
    {
     "data": {
      "text/plain": [
       "(array([1.17229e+05, 1.97800e+04, 1.62000e+03, 3.19000e+02, 1.29000e+02,\n",
       "        4.80000e+01, 1.90000e+01, 2.20000e+01, 1.50000e+01, 8.00000e+00]),\n",
       " array([  4000. , 103599.9, 203199.8, 302799.7, 402399.6, 501999.5,\n",
       "        601599.4, 701199.3, 800799.2, 900399.1, 999999. ]),\n",
       " <BarContainer object of 10 artists>)"
      ]
     },
     "execution_count": 18,
     "metadata": {},
     "output_type": "execute_result"
    },
    {
     "data": {
      "image/png": "[encoded data removed]",
      "text/plain": [
       "<Figure size 640x480 with 1 Axes>"
      ]
     },
     "metadata": {},
     "output_type": "display_data"
    }
   ],
   "source": [
    "\"\"\"\n",
    "Por último, continuamos con la limpieza de la variable Annual_Income\n",
    "\"\"\"\n",
    "\n",
    "# Creamos un dataframe auxiliar con los valores de Annual_Income por debajo del percentil 75\n",
    "df_aux = df[df['Annual_Income']<1000000]\n",
    "\n",
    "# Creamos un histograma basándonos en el df auxiliar\n",
    "plt.hist(df_aux['Annual_Income'], bins=10)"
   ]
  },
  {
   "cell_type": "markdown",
   "metadata": {},
   "source": [
    "Podemos observar que la mayoría de los casos tienen un Annual_Income inferior a $100000"
   ]
  },
  {
   "cell_type": "code",
   "execution_count": 19,
   "metadata": {},
   "outputs": [
    {
     "name": "stdout",
     "output_type": "stream",
     "text": [
      "Correlación con Annual_Income:\n"
     ]
    },
    {
     "data": {
      "text/plain": [
       "Debt_To_Income         -0.173589\n",
       "Interest_Rate          -0.052783\n",
       "Loan_ID                 0.008326\n",
       "Inquiries_Last_6Mo      0.060011\n",
       "Length_Employed         0.070139\n",
       "Number_Open_Accounts    0.145822\n",
       "Total_Accounts          0.203237\n",
       "Annual_Income           1.000000\n",
       "Name: Annual_Income, dtype: float64"
      ]
     },
     "execution_count": 19,
     "metadata": {},
     "output_type": "execute_result"
    }
   ],
   "source": [
    "# Limpiamos los valores nulos de Annual_Income a partir de su correlación con otras variables\n",
    "print(\"Correlación con Annual_Income:\")\n",
    "df.corr()['Annual_Income'].sort_values()"
   ]
  },
  {
   "cell_type": "code",
   "execution_count": 20,
   "metadata": {},
   "outputs": [
    {
     "name": "stdout",
     "output_type": "stream",
     "text": [
      "Total_Accounts | Promedio Annual_Income\n"
     ]
    },
    {
     "data": {
      "text/plain": [
       "Total_Accounts\n",
       "2       88617.400000\n",
       "3       36087.616140\n",
       "4       44522.606276\n",
       "5       45691.847537\n",
       "6       47686.809039\n",
       "           ...      \n",
       "99      97000.000000\n",
       "102              NaN\n",
       "105     38000.000000\n",
       "116    240000.000000\n",
       "156     42000.000000\n",
       "Name: Annual_Income, Length: 100, dtype: float64"
      ]
     },
     "execution_count": 20,
     "metadata": {},
     "output_type": "execute_result"
    }
   ],
   "source": [
    "\"\"\"\n",
    "Seleccionamos la variable que mayor correlación tiene con Annual_Income (Total_Accounts) y la utilizamos para completar los valores nulos en \n",
    "la columna Annual_Income\n",
    "\"\"\"\n",
    "# Vemos el promedio de Annual_Income por Total_Accounts\n",
    "print('Total_Accounts | Promedio Annual_Income')\n",
    "df.groupby('Total_Accounts').mean()['Annual_Income']"
   ]
  },
  {
   "cell_type": "code",
   "execution_count": 21,
   "metadata": {},
   "outputs": [],
   "source": [
    "# Creamos una variable con esos valores\n",
    "total_acc_inc_avg = df.groupby('Total_Accounts').mean()['Annual_Income']\n",
    "\n",
    "# Creamos una función que retorne el valor (promedio de Length_Employed) correspondiente al índice (Total_accounts) indicado\n",
    "def completar_annual_income(total_acc, annual_inc):\n",
    "    if np.isnan(annual_inc):\n",
    "        return total_acc_inc_avg[total_acc]\n",
    "    else:\n",
    "        return annual_inc\n",
    "\n",
    "# Realizamos la sustitución de los valores nulos de Length_Employed por el promedio correspondiente\n",
    "df['Annual_Income'] = df.apply(lambda x: completar_annual_income(x['Total_Accounts'], x['Annual_Income']), axis=1)"
   ]
  },
  {
   "cell_type": "code",
   "execution_count": 22,
   "metadata": {},
   "outputs": [
    {
     "data": {
      "text/plain": [
       "Loan_ID                  0\n",
       "Loan_Amount_Requested    0\n",
       "Length_Employed          0\n",
       "Home_Owner               0\n",
       "Annual_Income            1\n",
       "Income_Verified          0\n",
       "Purpose_Of_Loan          0\n",
       "Debt_To_Income           0\n",
       "Inquiries_Last_6Mo       0\n",
       "Number_Open_Accounts     0\n",
       "Total_Accounts           0\n",
       "Gender                   0\n",
       "Interest_Rate            0\n",
       "dtype: int64"
      ]
     },
     "execution_count": 22,
     "metadata": {},
     "output_type": "execute_result"
    }
   ],
   "source": [
    "# Corroboramos que la cantidad de valores nulos en la columna sea 0\n",
    "df.isnull().sum()"
   ]
  },
  {
   "cell_type": "code",
   "execution_count": 23,
   "metadata": {},
   "outputs": [
    {
     "name": "stdout",
     "output_type": "stream",
     "text": [
      "<class 'pandas.core.frame.DataFrame'>\n",
      "Int64Index: 164308 entries, 0 to 164308\n",
      "Data columns (total 13 columns):\n",
      " #   Column                 Non-Null Count   Dtype  \n",
      "---  ------                 --------------   -----  \n",
      " 0   Loan_ID                164308 non-null  int64  \n",
      " 1   Loan_Amount_Requested  164308 non-null  object \n",
      " 2   Length_Employed        164308 non-null  float64\n",
      " 3   Home_Owner             164308 non-null  object \n",
      " 4   Annual_Income          164308 non-null  float64\n",
      " 5   Income_Verified        164308 non-null  object \n",
      " 6   Purpose_Of_Loan        164308 non-null  object \n",
      " 7   Debt_To_Income         164308 non-null  float64\n",
      " 8   Inquiries_Last_6Mo     164308 non-null  int64  \n",
      " 9   Number_Open_Accounts   164308 non-null  int64  \n",
      " 10  Total_Accounts         164308 non-null  int64  \n",
      " 11  Gender                 164308 non-null  object \n",
      " 12  Interest_Rate          164308 non-null  int64  \n",
      "dtypes: float64(3), int64(5), object(5)\n",
      "memory usage: 17.5+ MB\n"
     ]
    }
   ],
   "source": [
    "# Como quedó sólo un registro nulo lo eliminamos\n",
    "df.dropna(inplace=True)\n",
    "\n",
    "# Verificamos la información del dataframe\n",
    "df.info()"
   ]
  },
  {
   "cell_type": "code",
   "execution_count": 24,
   "metadata": {},
   "outputs": [
    {
     "data": {
      "text/html": [
       "<div>\n",
       "<style scoped>\n",
       "    .dataframe tbody tr th:only-of-type {\n",
       "        vertical-align: middle;\n",
       "    }\n",
       "\n",
       "    .dataframe tbody tr th {\n",
       "        vertical-align: top;\n",
       "    }\n",
       "\n",
       "    .dataframe thead th {\n",
       "        text-align: right;\n",
       "    }\n",
       "</style>\n",
       "<table border=\"1\" class=\"dataframe\">\n",
       "  <thead>\n",
       "    <tr style=\"text-align: right;\">\n",
       "      <th></th>\n",
       "      <th>Loan_ID</th>\n",
       "      <th>Loan_Amount_Requested</th>\n",
       "      <th>Length_Employed</th>\n",
       "      <th>Home_Owner</th>\n",
       "      <th>Annual_Income</th>\n",
       "      <th>Income_Verified</th>\n",
       "      <th>Purpose_Of_Loan</th>\n",
       "      <th>Debt_To_Income</th>\n",
       "      <th>Inquiries_Last_6Mo</th>\n",
       "      <th>Number_Open_Accounts</th>\n",
       "      <th>Total_Accounts</th>\n",
       "      <th>Gender</th>\n",
       "      <th>Interest_Rate</th>\n",
       "    </tr>\n",
       "  </thead>\n",
       "  <tbody>\n",
       "    <tr>\n",
       "      <th>0</th>\n",
       "      <td>10000001</td>\n",
       "      <td>7,000</td>\n",
       "      <td>0.0</td>\n",
       "      <td>Rent</td>\n",
       "      <td>68000.00000</td>\n",
       "      <td>not verified</td>\n",
       "      <td>car</td>\n",
       "      <td>18.37</td>\n",
       "      <td>0</td>\n",
       "      <td>9</td>\n",
       "      <td>14</td>\n",
       "      <td>Female</td>\n",
       "      <td>1</td>\n",
       "    </tr>\n",
       "    <tr>\n",
       "      <th>1</th>\n",
       "      <td>10000002</td>\n",
       "      <td>30,000</td>\n",
       "      <td>4.0</td>\n",
       "      <td>Mortgage</td>\n",
       "      <td>73993.44661</td>\n",
       "      <td>VERIFIED - income</td>\n",
       "      <td>debt_consolidation</td>\n",
       "      <td>14.93</td>\n",
       "      <td>0</td>\n",
       "      <td>12</td>\n",
       "      <td>24</td>\n",
       "      <td>Female</td>\n",
       "      <td>3</td>\n",
       "    </tr>\n",
       "    <tr>\n",
       "      <th>2</th>\n",
       "      <td>10000003</td>\n",
       "      <td>24,725</td>\n",
       "      <td>7.0</td>\n",
       "      <td>Mortgage</td>\n",
       "      <td>75566.40000</td>\n",
       "      <td>VERIFIED - income source</td>\n",
       "      <td>debt_consolidation</td>\n",
       "      <td>15.88</td>\n",
       "      <td>0</td>\n",
       "      <td>12</td>\n",
       "      <td>16</td>\n",
       "      <td>Male</td>\n",
       "      <td>3</td>\n",
       "    </tr>\n",
       "    <tr>\n",
       "      <th>3</th>\n",
       "      <td>10000004</td>\n",
       "      <td>16,000</td>\n",
       "      <td>0.0</td>\n",
       "      <td>Rent</td>\n",
       "      <td>56160.00000</td>\n",
       "      <td>VERIFIED - income source</td>\n",
       "      <td>debt_consolidation</td>\n",
       "      <td>14.34</td>\n",
       "      <td>3</td>\n",
       "      <td>16</td>\n",
       "      <td>22</td>\n",
       "      <td>Male</td>\n",
       "      <td>3</td>\n",
       "    </tr>\n",
       "    <tr>\n",
       "      <th>4</th>\n",
       "      <td>10000005</td>\n",
       "      <td>17,000</td>\n",
       "      <td>8.0</td>\n",
       "      <td>Own</td>\n",
       "      <td>96000.00000</td>\n",
       "      <td>VERIFIED - income source</td>\n",
       "      <td>debt_consolidation</td>\n",
       "      <td>22.17</td>\n",
       "      <td>1</td>\n",
       "      <td>19</td>\n",
       "      <td>30</td>\n",
       "      <td>Female</td>\n",
       "      <td>1</td>\n",
       "    </tr>\n",
       "  </tbody>\n",
       "</table>\n",
       "</div>"
      ],
      "text/plain": [
       "    Loan_ID Loan_Amount_Requested  Length_Employed Home_Owner  Annual_Income  \\\n",
       "0  10000001                 7,000              0.0       Rent    68000.00000   \n",
       "1  10000002                30,000              4.0   Mortgage    73993.44661   \n",
       "2  10000003                24,725              7.0   Mortgage    75566.40000   \n",
       "3  10000004                16,000              0.0       Rent    56160.00000   \n",
       "4  10000005                17,000              8.0        Own    96000.00000   \n",
       "\n",
       "            Income_Verified     Purpose_Of_Loan  Debt_To_Income  \\\n",
       "0              not verified                 car           18.37   \n",
       "1         VERIFIED - income  debt_consolidation           14.93   \n",
       "2  VERIFIED - income source  debt_consolidation           15.88   \n",
       "3  VERIFIED - income source  debt_consolidation           14.34   \n",
       "4  VERIFIED - income source  debt_consolidation           22.17   \n",
       "\n",
       "   Inquiries_Last_6Mo  Number_Open_Accounts  Total_Accounts  Gender  \\\n",
       "0                   0                     9              14  Female   \n",
       "1                   0                    12              24  Female   \n",
       "2                   0                    12              16    Male   \n",
       "3                   3                    16              22    Male   \n",
       "4                   1                    19              30  Female   \n",
       "\n",
       "   Interest_Rate  \n",
       "0              1  \n",
       "1              3  \n",
       "2              3  \n",
       "3              3  \n",
       "4              1  "
      ]
     },
     "execution_count": 24,
     "metadata": {},
     "output_type": "execute_result"
    }
   ],
   "source": [
    "# Vemos las cabeceras\n",
    "df.head()"
   ]
  },
  {
   "cell_type": "code",
   "execution_count": 25,
   "metadata": {},
   "outputs": [
    {
     "name": "stdout",
     "output_type": "stream",
     "text": [
      "<class 'pandas.core.frame.DataFrame'>\n",
      "Int64Index: 164308 entries, 0 to 164308\n",
      "Data columns (total 13 columns):\n",
      " #   Column                 Non-Null Count   Dtype  \n",
      "---  ------                 --------------   -----  \n",
      " 0   Loan_ID                164308 non-null  int64  \n",
      " 1   Loan_Amount_Requested  164308 non-null  int64  \n",
      " 2   Length_Employed        164308 non-null  float64\n",
      " 3   Home_Owner             164308 non-null  object \n",
      " 4   Annual_Income          164308 non-null  float64\n",
      " 5   Income_Verified        164308 non-null  object \n",
      " 6   Purpose_Of_Loan        164308 non-null  object \n",
      " 7   Debt_To_Income         164308 non-null  float64\n",
      " 8   Inquiries_Last_6Mo     164308 non-null  int64  \n",
      " 9   Number_Open_Accounts   164308 non-null  int64  \n",
      " 10  Total_Accounts         164308 non-null  int64  \n",
      " 11  Gender                 164308 non-null  object \n",
      " 12  Interest_Rate          164308 non-null  int64  \n",
      "dtypes: float64(3), int64(6), object(4)\n",
      "memory usage: 17.5+ MB\n"
     ]
    }
   ],
   "source": [
    "# Podemos ver que la columna Loan_Amount_Requested no es de tipo numérico, así que debemos transformarla para poder realizar los cálculos\n",
    "df['Loan_Amount_Requested'] = df['Loan_Amount_Requested'].str.replace(',', '').apply(pd.to_numeric)\n",
    "\n",
    "# Volvemos a verificar la información del dataframe\n",
    "df.info()"
   ]
  },
  {
   "cell_type": "code",
   "execution_count": 26,
   "metadata": {},
   "outputs": [
    {
     "data": {
      "text/html": [
       "<div>\n",
       "<style scoped>\n",
       "    .dataframe tbody tr th:only-of-type {\n",
       "        vertical-align: middle;\n",
       "    }\n",
       "\n",
       "    .dataframe tbody tr th {\n",
       "        vertical-align: top;\n",
       "    }\n",
       "\n",
       "    .dataframe thead th {\n",
       "        text-align: right;\n",
       "    }\n",
       "</style>\n",
       "<table border=\"1\" class=\"dataframe\">\n",
       "  <thead>\n",
       "    <tr style=\"text-align: right;\">\n",
       "      <th></th>\n",
       "      <th>count</th>\n",
       "      <th>mean</th>\n",
       "      <th>std</th>\n",
       "      <th>min</th>\n",
       "      <th>25%</th>\n",
       "      <th>50%</th>\n",
       "      <th>75%</th>\n",
       "      <th>max</th>\n",
       "    </tr>\n",
       "  </thead>\n",
       "  <tbody>\n",
       "    <tr>\n",
       "      <th>Loan_ID</th>\n",
       "      <td>164308.0</td>\n",
       "      <td>1.008215e+07</td>\n",
       "      <td>47432.209880</td>\n",
       "      <td>10000001.0</td>\n",
       "      <td>10041077.75</td>\n",
       "      <td>10082154.50</td>\n",
       "      <td>1.012323e+07</td>\n",
       "      <td>10164309.00</td>\n",
       "    </tr>\n",
       "    <tr>\n",
       "      <th>Loan_Amount_Requested</th>\n",
       "      <td>164308.0</td>\n",
       "      <td>1.434928e+04</td>\n",
       "      <td>8281.859681</td>\n",
       "      <td>500.0</td>\n",
       "      <td>8000.00</td>\n",
       "      <td>12075.00</td>\n",
       "      <td>2.000000e+04</td>\n",
       "      <td>35000.00</td>\n",
       "    </tr>\n",
       "    <tr>\n",
       "      <th>Length_Employed</th>\n",
       "      <td>164308.0</td>\n",
       "      <td>5.990712e+00</td>\n",
       "      <td>3.548372</td>\n",
       "      <td>0.0</td>\n",
       "      <td>3.00</td>\n",
       "      <td>6.00</td>\n",
       "      <td>1.000000e+01</td>\n",
       "      <td>10.00</td>\n",
       "    </tr>\n",
       "    <tr>\n",
       "      <th>Annual_Income</th>\n",
       "      <td>164308.0</td>\n",
       "      <td>7.332921e+04</td>\n",
       "      <td>55796.901118</td>\n",
       "      <td>4000.0</td>\n",
       "      <td>48000.00</td>\n",
       "      <td>65000.00</td>\n",
       "      <td>8.560164e+04</td>\n",
       "      <td>7500000.00</td>\n",
       "    </tr>\n",
       "    <tr>\n",
       "      <th>Debt_To_Income</th>\n",
       "      <td>164308.0</td>\n",
       "      <td>1.720718e+01</td>\n",
       "      <td>7.845104</td>\n",
       "      <td>0.0</td>\n",
       "      <td>11.37</td>\n",
       "      <td>16.84</td>\n",
       "      <td>2.278000e+01</td>\n",
       "      <td>39.99</td>\n",
       "    </tr>\n",
       "    <tr>\n",
       "      <th>Inquiries_Last_6Mo</th>\n",
       "      <td>164308.0</td>\n",
       "      <td>7.817027e-01</td>\n",
       "      <td>1.034748</td>\n",
       "      <td>0.0</td>\n",
       "      <td>0.00</td>\n",
       "      <td>0.00</td>\n",
       "      <td>1.000000e+00</td>\n",
       "      <td>8.00</td>\n",
       "    </tr>\n",
       "    <tr>\n",
       "      <th>Number_Open_Accounts</th>\n",
       "      <td>164308.0</td>\n",
       "      <td>1.119383e+01</td>\n",
       "      <td>4.991828</td>\n",
       "      <td>0.0</td>\n",
       "      <td>8.00</td>\n",
       "      <td>10.00</td>\n",
       "      <td>1.400000e+01</td>\n",
       "      <td>76.00</td>\n",
       "    </tr>\n",
       "    <tr>\n",
       "      <th>Total_Accounts</th>\n",
       "      <td>164308.0</td>\n",
       "      <td>2.506720e+01</td>\n",
       "      <td>11.581547</td>\n",
       "      <td>2.0</td>\n",
       "      <td>17.00</td>\n",
       "      <td>23.00</td>\n",
       "      <td>3.200000e+01</td>\n",
       "      <td>156.00</td>\n",
       "    </tr>\n",
       "    <tr>\n",
       "      <th>Interest_Rate</th>\n",
       "      <td>164308.0</td>\n",
       "      <td>2.158945e+00</td>\n",
       "      <td>0.738363</td>\n",
       "      <td>1.0</td>\n",
       "      <td>2.00</td>\n",
       "      <td>2.00</td>\n",
       "      <td>3.000000e+00</td>\n",
       "      <td>3.00</td>\n",
       "    </tr>\n",
       "  </tbody>\n",
       "</table>\n",
       "</div>"
      ],
      "text/plain": [
       "                          count          mean           std         min  \\\n",
       "Loan_ID                164308.0  1.008215e+07  47432.209880  10000001.0   \n",
       "Loan_Amount_Requested  164308.0  1.434928e+04   8281.859681       500.0   \n",
       "Length_Employed        164308.0  5.990712e+00      3.548372         0.0   \n",
       "Annual_Income          164308.0  7.332921e+04  55796.901118      4000.0   \n",
       "Debt_To_Income         164308.0  1.720718e+01      7.845104         0.0   \n",
       "Inquiries_Last_6Mo     164308.0  7.817027e-01      1.034748         0.0   \n",
       "Number_Open_Accounts   164308.0  1.119383e+01      4.991828         0.0   \n",
       "Total_Accounts         164308.0  2.506720e+01     11.581547         2.0   \n",
       "Interest_Rate          164308.0  2.158945e+00      0.738363         1.0   \n",
       "\n",
       "                               25%          50%           75%          max  \n",
       "Loan_ID                10041077.75  10082154.50  1.012323e+07  10164309.00  \n",
       "Loan_Amount_Requested      8000.00     12075.00  2.000000e+04     35000.00  \n",
       "Length_Employed               3.00         6.00  1.000000e+01        10.00  \n",
       "Annual_Income             48000.00     65000.00  8.560164e+04   7500000.00  \n",
       "Debt_To_Income               11.37        16.84  2.278000e+01        39.99  \n",
       "Inquiries_Last_6Mo            0.00         0.00  1.000000e+00         8.00  \n",
       "Number_Open_Accounts          8.00        10.00  1.400000e+01        76.00  \n",
       "Total_Accounts               17.00        23.00  3.200000e+01       156.00  \n",
       "Interest_Rate                 2.00         2.00  3.000000e+00         3.00  "
      ]
     },
     "execution_count": 26,
     "metadata": {},
     "output_type": "execute_result"
    }
   ],
   "source": [
    "# Volvemos a mostrar la información estadística del dataframe\n",
    "df.describe().transpose()"
   ]
  },
  {
   "cell_type": "markdown",
   "metadata": {},
   "source": [
    "# Visualización"
   ]
  },
  {
   "cell_type": "code",
   "execution_count": 27,
   "metadata": {},
   "outputs": [
    {
     "data": {
      "text/plain": [
       "<AxesSubplot: xlabel='Interest_Rate', ylabel='count'>"
      ]
     },
     "execution_count": 27,
     "metadata": {},
     "output_type": "execute_result"
    },
    {
     "data": {
      "image/png": "[encoded data removed]",
      "text/plain": [
       "<Figure size 640x480 with 1 Axes>"
      ]
     },
     "metadata": {},
     "output_type": "display_data"
    }
   ],
   "source": [
    "# Verificamos si hay una proporción equilibrada entre las diferentes categorías de la variable objetivo para un buen modelado posterior\n",
    "sns.countplot(x='Interest_Rate', data=df)"
   ]
  },
  {
   "cell_type": "code",
   "execution_count": 28,
   "metadata": {},
   "outputs": [
    {
     "data": {
      "text/plain": [
       "<AxesSubplot: >"
      ]
     },
     "execution_count": 28,
     "metadata": {},
     "output_type": "execute_result"
    },
    {
     "data": {
      "image/png": "[encoded data removed]",
      "text/plain": [
       "<Figure size 640x480 with 1 Axes>"
      ]
     },
     "metadata": {},
     "output_type": "display_data"
    }
   ],
   "source": [
    "# Podemos generar un plot de barras con la correlación entre las variables de entrada y la variable objetivo\n",
    "df.corr()['Interest_Rate'][:-1].sort_values().plot(kind='bar')"
   ]
  },
  {
   "cell_type": "code",
   "execution_count": 29,
   "metadata": {},
   "outputs": [
    {
     "data": {
      "text/plain": [
       "<AxesSubplot: >"
      ]
     },
     "execution_count": 29,
     "metadata": {},
     "output_type": "execute_result"
    },
    {
     "data": {
      "image/png": "[encoded data removed]",
      "text/plain": [
       "<Figure size 1200x700 with 2 Axes>"
      ]
     },
     "metadata": {},
     "output_type": "display_data"
    }
   ],
   "source": [
    "# Podemos generar un mapa de calor con la correlación entre las variables\n",
    "plt.figure(figsize=(12,7))\n",
    "sns.heatmap(df.corr(), annot=True, annot_kws={'size': 8}, cmap='viridis')"
   ]
  },
  {
   "cell_type": "code",
   "execution_count": 30,
   "metadata": {},
   "outputs": [
    {
     "data": {
      "text/plain": [
       "<matplotlib.colorbar.Colorbar at 0x1b435f908e0>"
      ]
     },
     "execution_count": 30,
     "metadata": {},
     "output_type": "execute_result"
    },
    {
     "data": {
      "image/png": "[encoded data removed]",
      "text/plain": [
       "<Figure size 640x480 with 2 Axes>"
      ]
     },
     "metadata": {},
     "output_type": "display_data"
    }
   ],
   "source": [
    "# Visualizamos las variables altamente correlacionadas con la variable objetivo\n",
    "\n",
    "# Inquires_Last_6Mo (Si los valores están normalizados, lo mejor es utilizar un histograma 2D)\n",
    "plt.hist2d(df['Inquiries_Last_6Mo'], df['Interest_Rate'], bins=(9,3), cmap='viridis')\n",
    "plt.xlabel('Inquiries in last 6 months')\n",
    "plt.ylabel('Interest Rate')\n",
    "plt.yticks(range(1, 4, 1))\n",
    "plt.colorbar()"
   ]
  },
  {
   "cell_type": "code",
   "execution_count": 31,
   "metadata": {},
   "outputs": [
    {
     "data": {
      "text/plain": [
       "<matplotlib.colorbar.Colorbar at 0x1b435bedcc0>"
      ]
     },
     "execution_count": 31,
     "metadata": {},
     "output_type": "execute_result"
    },
    {
     "data": {
      "image/png": "[encoded data removed]",
      "text/plain": [
       "<Figure size 640x480 with 2 Axes>"
      ]
     },
     "metadata": {},
     "output_type": "display_data"
    }
   ],
   "source": [
    "# Debt_To_Income (Si los valores están normalizados, lo mejor es utilizar un histograma 2D)\n",
    "plt.hist2d(df['Debt_To_Income'], df['Interest_Rate'], bins=(20,3), cmap='viridis')\n",
    "plt.xlabel('Debt to income')\n",
    "plt.ylabel('Interest Rate')\n",
    "plt.yticks(range(1, 4, 1))\n",
    "plt.colorbar()"
   ]
  },
  {
   "cell_type": "code",
   "execution_count": 32,
   "metadata": {},
   "outputs": [
    {
     "data": {
      "text/plain": [
       "<matplotlib.colorbar.Colorbar at 0x1b437e3e110>"
      ]
     },
     "execution_count": 32,
     "metadata": {},
     "output_type": "execute_result"
    },
    {
     "data": {
      "image/png": "[encoded data removed]",
      "text/plain": [
       "<Figure size 640x480 with 2 Axes>"
      ]
     },
     "metadata": {},
     "output_type": "display_data"
    }
   ],
   "source": [
    "# Loan_Amount_Requested (Si los valores están normalizados, lo mejor es utilizar un histograma 2D)\n",
    "plt.hist2d(df['Loan_Amount_Requested'], df['Interest_Rate'], bins=(9,3), cmap='viridis')\n",
    "plt.xlabel('Loan amount requested')\n",
    "plt.ylabel('Interest Rate')\n",
    "plt.yticks(range(1, 4, 1))\n",
    "plt.colorbar()"
   ]
  },
  {
   "cell_type": "code",
   "execution_count": 33,
   "metadata": {},
   "outputs": [
    {
     "data": {
      "text/plain": [
       "<AxesSubplot: xlabel='Gender'>"
      ]
     },
     "execution_count": 33,
     "metadata": {},
     "output_type": "execute_result"
    },
    {
     "data": {
      "image/png": "[encoded data removed]",
      "text/plain": [
       "<Figure size 640x480 with 1 Axes>"
      ]
     },
     "metadata": {},
     "output_type": "display_data"
    }
   ],
   "source": [
    "# Podemos verificar si hay alguna diferencia respecto al género del solicitante\n",
    "df.pivot_table(index='Gender', columns='Interest_Rate', values='Loan_ID', aggfunc='count').plot(kind='bar')"
   ]
  },
  {
   "cell_type": "code",
   "execution_count": 34,
   "metadata": {},
   "outputs": [
    {
     "data": {
      "text/plain": [
       "<AxesSubplot: xlabel='Purpose_Of_Loan'>"
      ]
     },
     "execution_count": 34,
     "metadata": {},
     "output_type": "execute_result"
    },
    {
     "data": {
      "image/png": "[encoded data removed]",
      "text/plain": [
       "<Figure size 640x480 with 1 Axes>"
      ]
     },
     "metadata": {},
     "output_type": "display_data"
    }
   ],
   "source": [
    "# Podemos verificar si los préstamos estan enfoncados en alguna finalidad en particular\n",
    "df.groupby('Purpose_Of_Loan').agg('count')['Interest_Rate'].plot(kind='bar')"
   ]
  },
  {
   "cell_type": "code",
   "execution_count": 35,
   "metadata": {},
   "outputs": [
    {
     "data": {
      "text/plain": [
       "<AxesSubplot: xlabel='Purpose_Of_Loan'>"
      ]
     },
     "execution_count": 35,
     "metadata": {},
     "output_type": "execute_result"
    },
    {
     "data": {
      "image/png": "[encoded data removed]",
      "text/plain": [
       "<Figure size 640x480 with 1 Axes>"
      ]
     },
     "metadata": {},
     "output_type": "display_data"
    }
   ],
   "source": [
    "# Podemos verificar si hay alguna diferencia respecto a la finalidad del préstamo\n",
    "df.pivot_table(index='Purpose_Of_Loan', columns='Interest_Rate', values='Loan_ID', aggfunc='count').plot(kind='bar')"
   ]
  },
  {
   "cell_type": "markdown",
   "metadata": {},
   "source": [
    "# Limpieza **final**"
   ]
  },
  {
   "cell_type": "code",
   "execution_count": 36,
   "metadata": {},
   "outputs": [
    {
     "name": "stdout",
     "output_type": "stream",
     "text": [
      "<class 'pandas.core.frame.DataFrame'>\n",
      "Int64Index: 164308 entries, 0 to 164308\n",
      "Data columns (total 13 columns):\n",
      " #   Column                 Non-Null Count   Dtype  \n",
      "---  ------                 --------------   -----  \n",
      " 0   Loan_ID                164308 non-null  int64  \n",
      " 1   Loan_Amount_Requested  164308 non-null  int64  \n",
      " 2   Length_Employed        164308 non-null  float64\n",
      " 3   Home_Owner             164308 non-null  object \n",
      " 4   Annual_Income          164308 non-null  float64\n",
      " 5   Income_Verified        164308 non-null  object \n",
      " 6   Purpose_Of_Loan        164308 non-null  object \n",
      " 7   Debt_To_Income         164308 non-null  float64\n",
      " 8   Inquiries_Last_6Mo     164308 non-null  int64  \n",
      " 9   Number_Open_Accounts   164308 non-null  int64  \n",
      " 10  Total_Accounts         164308 non-null  int64  \n",
      " 11  Gender                 164308 non-null  object \n",
      " 12  Interest_Rate          164308 non-null  int64  \n",
      "dtypes: float64(3), int64(6), object(4)\n",
      "memory usage: 17.5+ MB\n",
      "Correlacionadas con variable objetivo:\n"
     ]
    },
    {
     "data": {
      "text/plain": [
       "Annual_Income           -0.050086\n",
       "Total_Accounts          -0.040741\n",
       "Loan_ID                  0.001289\n",
       "Number_Open_Accounts     0.002849\n",
       "Length_Employed          0.029096\n",
       "Loan_Amount_Requested    0.132479\n",
       "Debt_To_Income           0.152470\n",
       "Inquiries_Last_6Mo       0.188993\n",
       "Interest_Rate            1.000000\n",
       "Name: Interest_Rate, dtype: float64"
      ]
     },
     "execution_count": 36,
     "metadata": {},
     "output_type": "execute_result"
    }
   ],
   "source": [
    "\"\"\"\n",
    "La limpieza final consiste en eliminar las variables que no tienen correlación con la variable objetivo, aquellas cuya información ya se encuentra\n",
    "incluida en otras variables y aquellas que sólo representan una etiqueta de identificación\n",
    "\"\"\"\n",
    "\n",
    "df.info()\n",
    "print('Correlacionadas con variable objetivo:')\n",
    "df.corr()['Interest_Rate'].sort_values()"
   ]
  },
  {
   "cell_type": "code",
   "execution_count": 37,
   "metadata": {},
   "outputs": [
    {
     "data": {
      "text/html": [
       "<div>\n",
       "<style scoped>\n",
       "    .dataframe tbody tr th:only-of-type {\n",
       "        vertical-align: middle;\n",
       "    }\n",
       "\n",
       "    .dataframe tbody tr th {\n",
       "        vertical-align: top;\n",
       "    }\n",
       "\n",
       "    .dataframe thead th {\n",
       "        text-align: right;\n",
       "    }\n",
       "</style>\n",
       "<table border=\"1\" class=\"dataframe\">\n",
       "  <thead>\n",
       "    <tr style=\"text-align: right;\">\n",
       "      <th></th>\n",
       "      <th>Loan_Amount_Requested</th>\n",
       "      <th>Length_Employed</th>\n",
       "      <th>Home_Owner</th>\n",
       "      <th>Annual_Income</th>\n",
       "      <th>Purpose_Of_Loan</th>\n",
       "      <th>Debt_To_Income</th>\n",
       "      <th>Inquiries_Last_6Mo</th>\n",
       "      <th>Total_Accounts</th>\n",
       "      <th>Gender</th>\n",
       "      <th>Interest_Rate</th>\n",
       "    </tr>\n",
       "  </thead>\n",
       "  <tbody>\n",
       "    <tr>\n",
       "      <th>0</th>\n",
       "      <td>7000</td>\n",
       "      <td>0.0</td>\n",
       "      <td>Rent</td>\n",
       "      <td>68000.00000</td>\n",
       "      <td>car</td>\n",
       "      <td>18.37</td>\n",
       "      <td>0</td>\n",
       "      <td>14</td>\n",
       "      <td>Female</td>\n",
       "      <td>1</td>\n",
       "    </tr>\n",
       "    <tr>\n",
       "      <th>1</th>\n",
       "      <td>30000</td>\n",
       "      <td>4.0</td>\n",
       "      <td>Mortgage</td>\n",
       "      <td>73993.44661</td>\n",
       "      <td>debt_consolidation</td>\n",
       "      <td>14.93</td>\n",
       "      <td>0</td>\n",
       "      <td>24</td>\n",
       "      <td>Female</td>\n",
       "      <td>3</td>\n",
       "    </tr>\n",
       "    <tr>\n",
       "      <th>2</th>\n",
       "      <td>24725</td>\n",
       "      <td>7.0</td>\n",
       "      <td>Mortgage</td>\n",
       "      <td>75566.40000</td>\n",
       "      <td>debt_consolidation</td>\n",
       "      <td>15.88</td>\n",
       "      <td>0</td>\n",
       "      <td>16</td>\n",
       "      <td>Male</td>\n",
       "      <td>3</td>\n",
       "    </tr>\n",
       "    <tr>\n",
       "      <th>3</th>\n",
       "      <td>16000</td>\n",
       "      <td>0.0</td>\n",
       "      <td>Rent</td>\n",
       "      <td>56160.00000</td>\n",
       "      <td>debt_consolidation</td>\n",
       "      <td>14.34</td>\n",
       "      <td>3</td>\n",
       "      <td>22</td>\n",
       "      <td>Male</td>\n",
       "      <td>3</td>\n",
       "    </tr>\n",
       "    <tr>\n",
       "      <th>4</th>\n",
       "      <td>17000</td>\n",
       "      <td>8.0</td>\n",
       "      <td>Own</td>\n",
       "      <td>96000.00000</td>\n",
       "      <td>debt_consolidation</td>\n",
       "      <td>22.17</td>\n",
       "      <td>1</td>\n",
       "      <td>30</td>\n",
       "      <td>Female</td>\n",
       "      <td>1</td>\n",
       "    </tr>\n",
       "  </tbody>\n",
       "</table>\n",
       "</div>"
      ],
      "text/plain": [
       "   Loan_Amount_Requested  Length_Employed Home_Owner  Annual_Income  \\\n",
       "0                   7000              0.0       Rent    68000.00000   \n",
       "1                  30000              4.0   Mortgage    73993.44661   \n",
       "2                  24725              7.0   Mortgage    75566.40000   \n",
       "3                  16000              0.0       Rent    56160.00000   \n",
       "4                  17000              8.0        Own    96000.00000   \n",
       "\n",
       "      Purpose_Of_Loan  Debt_To_Income  Inquiries_Last_6Mo  Total_Accounts  \\\n",
       "0                 car           18.37                   0              14   \n",
       "1  debt_consolidation           14.93                   0              24   \n",
       "2  debt_consolidation           15.88                   0              16   \n",
       "3  debt_consolidation           14.34                   3              22   \n",
       "4  debt_consolidation           22.17                   1              30   \n",
       "\n",
       "   Gender  Interest_Rate  \n",
       "0  Female              1  \n",
       "1  Female              3  \n",
       "2    Male              3  \n",
       "3    Male              3  \n",
       "4  Female              1  "
      ]
     },
     "execution_count": 37,
     "metadata": {},
     "output_type": "execute_result"
    }
   ],
   "source": [
    "# Eliminamos Number_Open_Accounts, Loan_ID y Income_Verified\n",
    "df = df.drop(['Number_Open_Accounts', 'Loan_ID', 'Income_Verified'], axis=1)\n",
    "\n",
    "# Vemos las cabeceras\n",
    "df.head()"
   ]
  },
  {
   "cell_type": "markdown",
   "metadata": {},
   "source": [
    "# Transformación de variables categóricas"
   ]
  },
  {
   "cell_type": "code",
   "execution_count": 38,
   "metadata": {},
   "outputs": [
    {
     "data": {
      "text/html": [
       "<div>\n",
       "<style scoped>\n",
       "    .dataframe tbody tr th:only-of-type {\n",
       "        vertical-align: middle;\n",
       "    }\n",
       "\n",
       "    .dataframe tbody tr th {\n",
       "        vertical-align: top;\n",
       "    }\n",
       "\n",
       "    .dataframe thead th {\n",
       "        text-align: right;\n",
       "    }\n",
       "</style>\n",
       "<table border=\"1\" class=\"dataframe\">\n",
       "  <thead>\n",
       "    <tr style=\"text-align: right;\">\n",
       "      <th></th>\n",
       "      <th>Loan_Amount_Requested</th>\n",
       "      <th>Length_Employed</th>\n",
       "      <th>Home_Owner</th>\n",
       "      <th>Annual_Income</th>\n",
       "      <th>Purpose_Of_Loan</th>\n",
       "      <th>Debt_To_Income</th>\n",
       "      <th>Inquiries_Last_6Mo</th>\n",
       "      <th>Total_Accounts</th>\n",
       "      <th>Gender</th>\n",
       "      <th>Interest_Rate</th>\n",
       "    </tr>\n",
       "  </thead>\n",
       "  <tbody>\n",
       "    <tr>\n",
       "      <th>0</th>\n",
       "      <td>7000</td>\n",
       "      <td>0.0</td>\n",
       "      <td>Rent</td>\n",
       "      <td>68000.00000</td>\n",
       "      <td>car</td>\n",
       "      <td>18.37</td>\n",
       "      <td>0</td>\n",
       "      <td>14</td>\n",
       "      <td>Female</td>\n",
       "      <td>1</td>\n",
       "    </tr>\n",
       "    <tr>\n",
       "      <th>1</th>\n",
       "      <td>30000</td>\n",
       "      <td>4.0</td>\n",
       "      <td>Mortgage</td>\n",
       "      <td>73993.44661</td>\n",
       "      <td>debt_consolidation</td>\n",
       "      <td>14.93</td>\n",
       "      <td>0</td>\n",
       "      <td>24</td>\n",
       "      <td>Female</td>\n",
       "      <td>3</td>\n",
       "    </tr>\n",
       "    <tr>\n",
       "      <th>2</th>\n",
       "      <td>24725</td>\n",
       "      <td>7.0</td>\n",
       "      <td>Mortgage</td>\n",
       "      <td>75566.40000</td>\n",
       "      <td>debt_consolidation</td>\n",
       "      <td>15.88</td>\n",
       "      <td>0</td>\n",
       "      <td>16</td>\n",
       "      <td>Male</td>\n",
       "      <td>3</td>\n",
       "    </tr>\n",
       "    <tr>\n",
       "      <th>3</th>\n",
       "      <td>16000</td>\n",
       "      <td>0.0</td>\n",
       "      <td>Rent</td>\n",
       "      <td>56160.00000</td>\n",
       "      <td>debt_consolidation</td>\n",
       "      <td>14.34</td>\n",
       "      <td>3</td>\n",
       "      <td>22</td>\n",
       "      <td>Male</td>\n",
       "      <td>3</td>\n",
       "    </tr>\n",
       "    <tr>\n",
       "      <th>4</th>\n",
       "      <td>17000</td>\n",
       "      <td>8.0</td>\n",
       "      <td>Own</td>\n",
       "      <td>96000.00000</td>\n",
       "      <td>debt_consolidation</td>\n",
       "      <td>22.17</td>\n",
       "      <td>1</td>\n",
       "      <td>30</td>\n",
       "      <td>Female</td>\n",
       "      <td>1</td>\n",
       "    </tr>\n",
       "  </tbody>\n",
       "</table>\n",
       "</div>"
      ],
      "text/plain": [
       "   Loan_Amount_Requested  Length_Employed Home_Owner  Annual_Income  \\\n",
       "0                   7000              0.0       Rent    68000.00000   \n",
       "1                  30000              4.0   Mortgage    73993.44661   \n",
       "2                  24725              7.0   Mortgage    75566.40000   \n",
       "3                  16000              0.0       Rent    56160.00000   \n",
       "4                  17000              8.0        Own    96000.00000   \n",
       "\n",
       "      Purpose_Of_Loan  Debt_To_Income  Inquiries_Last_6Mo  Total_Accounts  \\\n",
       "0                 car           18.37                   0              14   \n",
       "1  debt_consolidation           14.93                   0              24   \n",
       "2  debt_consolidation           15.88                   0              16   \n",
       "3  debt_consolidation           14.34                   3              22   \n",
       "4  debt_consolidation           22.17                   1              30   \n",
       "\n",
       "   Gender  Interest_Rate  \n",
       "0  Female              1  \n",
       "1  Female              3  \n",
       "2    Male              3  \n",
       "3    Male              3  \n",
       "4  Female              1  "
      ]
     },
     "execution_count": 38,
     "metadata": {},
     "output_type": "execute_result"
    }
   ],
   "source": [
    "\"\"\"\n",
    "Si vemos las cabeceras de nuestro dataframe, podemos observar que variables como Home_Owner, Purpose_Of_Loan y Gender corresponden a categorías. Para poder \n",
    "utilizarlas en nuestros cálculos, debemos transformarlas en valores numéricos haciendo uso de la técnica One Hot Encoder.\n",
    "\"\"\"\n",
    "\n",
    "df.head()"
   ]
  },
  {
   "cell_type": "code",
   "execution_count": 39,
   "metadata": {},
   "outputs": [
    {
     "data": {
      "text/plain": [
       "Mortgage    86375\n",
       "Rent        65349\n",
       "Own         12525\n",
       "Other          49\n",
       "None           10\n",
       "Name: Home_Owner, dtype: int64"
      ]
     },
     "execution_count": 39,
     "metadata": {},
     "output_type": "execute_result"
    }
   ],
   "source": [
    "# En primer lugar debemos verificar si vale la pena realizar algún filtrado de datos para ahorrar columnas 'dummy' si hay contadores bajos\n",
    "\n",
    "# Vemos un conteo de Home_Owner             * Yo limpiaría las categorías Other y None pero el profesor no lo hace\n",
    "df['Home_Owner'].value_counts()"
   ]
  },
  {
   "cell_type": "code",
   "execution_count": 40,
   "metadata": {},
   "outputs": [
    {
     "data": {
      "text/plain": [
       "debt_consolidation    97101\n",
       "credit_card           36684\n",
       "home_improvement       9268\n",
       "other                  8346\n",
       "major_purchase         3435\n",
       "small_business         2392\n",
       "car                    1885\n",
       "medical                1541\n",
       "moving                  974\n",
       "vacation                837\n",
       "wedding                 828\n",
       "house                   773\n",
       "renewable_energy        123\n",
       "educational             121\n",
       "Name: Purpose_Of_Loan, dtype: int64"
      ]
     },
     "execution_count": 40,
     "metadata": {},
     "output_type": "execute_result"
    }
   ],
   "source": [
    "# Vemos un conteo de Purpose_Of_Loan        * Yo limpiaría las categorías renewable_energy y educational pero el profesor no lo hace\n",
    "df['Purpose_Of_Loan'].value_counts()"
   ]
  },
  {
   "cell_type": "code",
   "execution_count": 41,
   "metadata": {},
   "outputs": [
    {
     "data": {
      "text/plain": [
       "Male      117175\n",
       "Female     47133\n",
       "Name: Gender, dtype: int64"
      ]
     },
     "execution_count": 41,
     "metadata": {},
     "output_type": "execute_result"
    }
   ],
   "source": [
    "# Vemos un conteo de Gender\n",
    "df['Gender'].value_counts()"
   ]
  },
  {
   "cell_type": "code",
   "execution_count": 42,
   "metadata": {},
   "outputs": [
    {
     "name": "stdout",
     "output_type": "stream",
     "text": [
      "<class 'pandas.core.frame.DataFrame'>\n",
      "Int64Index: 164308 entries, 0 to 164308\n",
      "Data columns (total 28 columns):\n",
      " #   Column                              Non-Null Count   Dtype  \n",
      "---  ------                              --------------   -----  \n",
      " 0   Loan_Amount_Requested               164308 non-null  int64  \n",
      " 1   Length_Employed                     164308 non-null  float64\n",
      " 2   Annual_Income                       164308 non-null  float64\n",
      " 3   Debt_To_Income                      164308 non-null  float64\n",
      " 4   Inquiries_Last_6Mo                  164308 non-null  int64  \n",
      " 5   Total_Accounts                      164308 non-null  int64  \n",
      " 6   Interest_Rate                       164308 non-null  int64  \n",
      " 7   Home_Owner_Mortgage                 164308 non-null  uint8  \n",
      " 8   Home_Owner_None                     164308 non-null  uint8  \n",
      " 9   Home_Owner_Other                    164308 non-null  uint8  \n",
      " 10  Home_Owner_Own                      164308 non-null  uint8  \n",
      " 11  Home_Owner_Rent                     164308 non-null  uint8  \n",
      " 12  Purpose_Of_Loan_car                 164308 non-null  uint8  \n",
      " 13  Purpose_Of_Loan_credit_card         164308 non-null  uint8  \n",
      " 14  Purpose_Of_Loan_debt_consolidation  164308 non-null  uint8  \n",
      " 15  Purpose_Of_Loan_educational         164308 non-null  uint8  \n",
      " 16  Purpose_Of_Loan_home_improvement    164308 non-null  uint8  \n",
      " 17  Purpose_Of_Loan_house               164308 non-null  uint8  \n",
      " 18  Purpose_Of_Loan_major_purchase      164308 non-null  uint8  \n",
      " 19  Purpose_Of_Loan_medical             164308 non-null  uint8  \n",
      " 20  Purpose_Of_Loan_moving              164308 non-null  uint8  \n",
      " 21  Purpose_Of_Loan_other               164308 non-null  uint8  \n",
      " 22  Purpose_Of_Loan_renewable_energy    164308 non-null  uint8  \n",
      " 23  Purpose_Of_Loan_small_business      164308 non-null  uint8  \n",
      " 24  Purpose_Of_Loan_vacation            164308 non-null  uint8  \n",
      " 25  Purpose_Of_Loan_wedding             164308 non-null  uint8  \n",
      " 26  Gender_Female                       164308 non-null  uint8  \n",
      " 27  Gender_Male                         164308 non-null  uint8  \n",
      "dtypes: float64(3), int64(4), uint8(21)\n",
      "memory usage: 13.3 MB\n"
     ]
    }
   ],
   "source": [
    "# Transformamos las categorías en variables 'dummies'\n",
    "\n",
    "# Creamos las variables 'dummies' (se puede agregar drop_first=True para evitar redundancias y evitar crear una columna por cada variable)\n",
    "dummies = pd.get_dummies(df[['Home_Owner', 'Purpose_Of_Loan', 'Gender']])\n",
    "\n",
    "# Creamos un dataframe definitivo concatenando las columnas 'dummies' al dataframe original\n",
    "df_post = pd.concat([df, dummies], axis=1)\n",
    "\n",
    "# Eliminamos las columnas originales del dataframe definitivo\n",
    "df_post = df_post.drop(['Home_Owner', 'Purpose_Of_Loan', 'Gender'], axis=1)\n",
    "\n",
    "# Verificamos la información del dataframe definitivo\n",
    "df_post.info()"
   ]
  },
  {
   "cell_type": "markdown",
   "metadata": {},
   "source": [
    "# Train / Test split"
   ]
  },
  {
   "cell_type": "code",
   "execution_count": 43,
   "metadata": {},
   "outputs": [
    {
     "data": {
      "text/plain": [
       "array([[1, 0, 0],\n",
       "       [0, 0, 1],\n",
       "       [0, 0, 1],\n",
       "       ...,\n",
       "       [1, 0, 0],\n",
       "       [0, 0, 1],\n",
       "       [0, 1, 0]], dtype=uint8)"
      ]
     },
     "execution_count": 43,
     "metadata": {},
     "output_type": "execute_result"
    }
   ],
   "source": [
    "# Dividimos los conjuntos X e y\n",
    "X = df_post.drop('Interest_Rate', axis=1).values\n",
    "y = df_post['Interest_Rate']\n",
    "\n",
    "# En el caso de clasificación multiclase, debemos dividir la variable objetivos en variables 'dummies'\n",
    "\"\"\"\n",
    "Si la variable objetivo estuviese en formato string, se debería codificar la variable objetivo como integers y luego aplicar One Hot Encoding:\n",
    "    > from keras.utils import np_utils\n",
    "    > from sklearn.preprocessing import LabelEncoder\n",
    "    >\n",
    "    > encoder = LabelEncoder()\n",
    "    > encoder.fit(y)\n",
    "    > y = encoder.transfrorm(y)\n",
    "    > y = np_utils.to_categorical(y)\n",
    "\"\"\"\n",
    "y = pd.get_dummies(y)\n",
    "\n",
    "# Convertimos y en valores\n",
    "y = y.values\n",
    "\n",
    "# Vemos que ahora tenemos 3 columnas que representan cada una a una categoría y sus valores son booleanos (0/1)\n",
    "y"
   ]
  },
  {
   "cell_type": "code",
   "execution_count": 44,
   "metadata": {},
   "outputs": [],
   "source": [
    "# Realizamos el split en 75/25\n",
    "from sklearn.model_selection import train_test_split\n",
    "\n",
    "X_train, X_test, y_train, y_test = train_test_split(X, y, test_size=.25, random_state=101)"
   ]
  },
  {
   "cell_type": "markdown",
   "metadata": {},
   "source": [
    "# Escalado"
   ]
  },
  {
   "cell_type": "code",
   "execution_count": 45,
   "metadata": {},
   "outputs": [],
   "source": [
    "# Impotamos MinMaxScaler\n",
    "from sklearn.preprocessing import MinMaxScaler\n",
    "\n",
    "# Creamos una instancia de MinMaxScaler\n",
    "scaler = MinMaxScaler()\n",
    "\n",
    "# Adaptamos scaler a nuestro conjunto de entrenamiento\n",
    "scaler.fit(X_train)\n",
    "\n",
    "# Escalamos los conjuntos de prueba y entrenamiento\n",
    "X_train = scaler.transform(X_train)\n",
    "X_test = scaler.transform(X_test)"
   ]
  },
  {
   "cell_type": "markdown",
   "metadata": {},
   "source": [
    "# Creación del modelo"
   ]
  },
  {
   "cell_type": "markdown",
   "metadata": {},
   "source": [
    "Para un problema de clasificación multiclase utilizamos como optimizador 'adam', en el argumento loss indicamos 'categorical_crossentropy', y \n",
    "como métrica utilizamos 'categorical_accuracy'"
   ]
  },
  {
   "cell_type": "code",
   "execution_count": 46,
   "metadata": {},
   "outputs": [],
   "source": [
    "# Realizamos las importaciones necesarias\n",
    "import tensorflow as tf\n",
    "from keras.models import Sequential\n",
    "from keras.layers import Dense, Activation, Dropout\n",
    "\n",
    "# Creamos un modelo secuencial\n",
    "model = Sequential()\n",
    "\n",
    "# Iteramos una variable con un número de neuronas igual a la cantidad de variables de entrada\n",
    "num_neuronas = X_train.shape[1]\n",
    "\n",
    "# Iteramos una variable con un número de neuronas igual a la cantidad de categorías a predecir\n",
    "num_neuronas_salida = len(df['Interest_Rate'].unique())\n",
    "\n",
    "# Elegimos un número de capas (https://stats.stackexchange.com/questions/181/how-to-choose-the-number-of-hidden-layers-and-nodes-in-a-feedforward-neural-netw)\n",
    "# Creamos una capa oculta con una neurona por cada variable de entrada con función de activación ReLu\n",
    "model.add(Dense(units=num_neuronas, activation='relu'))\n",
    "\n",
    "# Creamos otra capa oculta con la mitad de neuronas (suele hacerse para acelerar el entrenamiento) con función de activación ReLu\n",
    "model.add(Dense(units=num_neuronas/2, activation='relu'))\n",
    "\n",
    "# Creamos una capa de salida con una neurona por cada variable de salida con función de activación Softmax (recomendada para clasificación multiclase)\n",
    "model.add(Dense(units=num_neuronas_salida, activation='softmax'))\n",
    "\n",
    "# Compilamos el modelo con optimizador adam, categorical_crossentropy en las pérdidas y como métrica categorical_accuracy\n",
    "model.compile(optimizer='adam', loss='categorical_crossentropy', metrics=['categorical_accuracy'])"
   ]
  },
  {
   "cell_type": "markdown",
   "metadata": {},
   "source": [
    "# Entrenamiento del modelo"
   ]
  },
  {
   "cell_type": "markdown",
   "metadata": {},
   "source": [
    "**Información para poder elegir el número de iteraciones**\n",
    "\n",
    "https://stats.stackexchange.com/questions/164876/tradeoff-batch-size-vs-number-of-iterations-to-train-a-neural-network\n",
    "\n",
    "https://datascience.stackexchange.com/questions/18414/are-there-any-rules-for-choosing-the-size-of-a-mini-batch"
   ]
  },
  {
   "cell_type": "code",
   "execution_count": 47,
   "metadata": {},
   "outputs": [
    {
     "name": "stdout",
     "output_type": "stream",
     "text": [
      "Epoch 1/200\n",
      "482/482 [==============================] - 3s 4ms/step - loss: 0.9998 - categorical_accuracy: 0.4883 - val_loss: 0.9637 - val_categorical_accuracy: 0.5193\n",
      "Epoch 2/200\n",
      "482/482 [==============================] - 2s 3ms/step - loss: 0.9622 - categorical_accuracy: 0.5177 - val_loss: 0.9566 - val_categorical_accuracy: 0.5235\n",
      "Epoch 3/200\n",
      "482/482 [==============================] - 1s 3ms/step - loss: 0.9586 - categorical_accuracy: 0.5196 - val_loss: 0.9538 - val_categorical_accuracy: 0.5264\n",
      "Epoch 4/200\n",
      "482/482 [==============================] - 1s 3ms/step - loss: 0.9573 - categorical_accuracy: 0.5202 - val_loss: 0.9538 - val_categorical_accuracy: 0.5242\n",
      "Epoch 5/200\n",
      "482/482 [==============================] - 1s 3ms/step - loss: 0.9557 - categorical_accuracy: 0.5215 - val_loss: 0.9525 - val_categorical_accuracy: 0.5260\n",
      "Epoch 6/200\n",
      "482/482 [==============================] - 1s 3ms/step - loss: 0.9548 - categorical_accuracy: 0.5225 - val_loss: 0.9515 - val_categorical_accuracy: 0.5265\n",
      "Epoch 7/200\n",
      "482/482 [==============================] - 1s 3ms/step - loss: 0.9539 - categorical_accuracy: 0.5229 - val_loss: 0.9502 - val_categorical_accuracy: 0.5268\n",
      "Epoch 8/200\n",
      "482/482 [==============================] - 1s 3ms/step - loss: 0.9533 - categorical_accuracy: 0.5229 - val_loss: 0.9506 - val_categorical_accuracy: 0.5257\n",
      "Epoch 9/200\n",
      "482/482 [==============================] - 1s 3ms/step - loss: 0.9529 - categorical_accuracy: 0.5227 - val_loss: 0.9497 - val_categorical_accuracy: 0.5271\n",
      "Epoch 10/200\n",
      "482/482 [==============================] - 1s 3ms/step - loss: 0.9522 - categorical_accuracy: 0.5238 - val_loss: 0.9500 - val_categorical_accuracy: 0.5259\n",
      "Epoch 11/200\n",
      "482/482 [==============================] - 1s 3ms/step - loss: 0.9520 - categorical_accuracy: 0.5236 - val_loss: 0.9504 - val_categorical_accuracy: 0.5254\n",
      "Epoch 12/200\n",
      "482/482 [==============================] - 1s 3ms/step - loss: 0.9514 - categorical_accuracy: 0.5238 - val_loss: 0.9505 - val_categorical_accuracy: 0.5263\n",
      "Epoch 13/200\n",
      "482/482 [==============================] - 1s 3ms/step - loss: 0.9511 - categorical_accuracy: 0.5236 - val_loss: 0.9502 - val_categorical_accuracy: 0.5259\n",
      "Epoch 14/200\n",
      "482/482 [==============================] - 1s 3ms/step - loss: 0.9507 - categorical_accuracy: 0.5238 - val_loss: 0.9482 - val_categorical_accuracy: 0.5282\n",
      "Epoch 15/200\n",
      "482/482 [==============================] - 1s 3ms/step - loss: 0.9506 - categorical_accuracy: 0.5242 - val_loss: 0.9494 - val_categorical_accuracy: 0.5264\n",
      "Epoch 16/200\n",
      "482/482 [==============================] - 1s 3ms/step - loss: 0.9504 - categorical_accuracy: 0.5243 - val_loss: 0.9478 - val_categorical_accuracy: 0.5278\n",
      "Epoch 17/200\n",
      "482/482 [==============================] - 1s 3ms/step - loss: 0.9500 - categorical_accuracy: 0.5246 - val_loss: 0.9484 - val_categorical_accuracy: 0.5274\n",
      "Epoch 18/200\n",
      "482/482 [==============================] - 1s 3ms/step - loss: 0.9497 - categorical_accuracy: 0.5244 - val_loss: 0.9478 - val_categorical_accuracy: 0.5268\n",
      "Epoch 19/200\n",
      "482/482 [==============================] - 1s 3ms/step - loss: 0.9496 - categorical_accuracy: 0.5242 - val_loss: 0.9498 - val_categorical_accuracy: 0.5250\n",
      "Epoch 20/200\n",
      "482/482 [==============================] - 1s 3ms/step - loss: 0.9495 - categorical_accuracy: 0.5249 - val_loss: 0.9473 - val_categorical_accuracy: 0.5265\n",
      "Epoch 21/200\n",
      "482/482 [==============================] - 1s 3ms/step - loss: 0.9489 - categorical_accuracy: 0.5248 - val_loss: 0.9500 - val_categorical_accuracy: 0.5254\n",
      "Epoch 22/200\n",
      "482/482 [==============================] - 1s 3ms/step - loss: 0.9490 - categorical_accuracy: 0.5249 - val_loss: 0.9482 - val_categorical_accuracy: 0.5275\n",
      "Epoch 23/200\n",
      "482/482 [==============================] - 1s 3ms/step - loss: 0.9488 - categorical_accuracy: 0.5255 - val_loss: 0.9474 - val_categorical_accuracy: 0.5289\n",
      "Epoch 24/200\n",
      "482/482 [==============================] - 1s 3ms/step - loss: 0.9485 - categorical_accuracy: 0.5250 - val_loss: 0.9464 - val_categorical_accuracy: 0.5281\n",
      "Epoch 25/200\n",
      "482/482 [==============================] - 1s 3ms/step - loss: 0.9484 - categorical_accuracy: 0.5261 - val_loss: 0.9467 - val_categorical_accuracy: 0.5277\n",
      "Epoch 26/200\n",
      "482/482 [==============================] - 1s 3ms/step - loss: 0.9484 - categorical_accuracy: 0.5252 - val_loss: 0.9464 - val_categorical_accuracy: 0.5292\n",
      "Epoch 27/200\n",
      "482/482 [==============================] - 1s 3ms/step - loss: 0.9484 - categorical_accuracy: 0.5258 - val_loss: 0.9470 - val_categorical_accuracy: 0.5268\n",
      "Epoch 28/200\n",
      "482/482 [==============================] - 2s 3ms/step - loss: 0.9480 - categorical_accuracy: 0.5261 - val_loss: 0.9474 - val_categorical_accuracy: 0.5280\n",
      "Epoch 29/200\n",
      "482/482 [==============================] - 2s 4ms/step - loss: 0.9480 - categorical_accuracy: 0.5256 - val_loss: 0.9465 - val_categorical_accuracy: 0.5275\n",
      "Epoch 30/200\n",
      "482/482 [==============================] - 2s 3ms/step - loss: 0.9478 - categorical_accuracy: 0.5261 - val_loss: 0.9459 - val_categorical_accuracy: 0.5277\n",
      "Epoch 31/200\n",
      "482/482 [==============================] - 1s 3ms/step - loss: 0.9476 - categorical_accuracy: 0.5262 - val_loss: 0.9462 - val_categorical_accuracy: 0.5294\n",
      "Epoch 32/200\n",
      "482/482 [==============================] - 1s 3ms/step - loss: 0.9476 - categorical_accuracy: 0.5253 - val_loss: 0.9472 - val_categorical_accuracy: 0.5275\n",
      "Epoch 33/200\n",
      "482/482 [==============================] - 1s 3ms/step - loss: 0.9477 - categorical_accuracy: 0.5262 - val_loss: 0.9467 - val_categorical_accuracy: 0.5269\n",
      "Epoch 34/200\n",
      "482/482 [==============================] - 1s 3ms/step - loss: 0.9474 - categorical_accuracy: 0.5256 - val_loss: 0.9460 - val_categorical_accuracy: 0.5288\n",
      "Epoch 35/200\n",
      "482/482 [==============================] - 1s 3ms/step - loss: 0.9470 - categorical_accuracy: 0.5256 - val_loss: 0.9461 - val_categorical_accuracy: 0.5283\n",
      "Epoch 36/200\n",
      "482/482 [==============================] - 1s 3ms/step - loss: 0.9471 - categorical_accuracy: 0.5256 - val_loss: 0.9467 - val_categorical_accuracy: 0.5280\n",
      "Epoch 37/200\n",
      "482/482 [==============================] - 1s 3ms/step - loss: 0.9469 - categorical_accuracy: 0.5265 - val_loss: 0.9482 - val_categorical_accuracy: 0.5247\n",
      "Epoch 38/200\n",
      "482/482 [==============================] - 1s 3ms/step - loss: 0.9470 - categorical_accuracy: 0.5261 - val_loss: 0.9456 - val_categorical_accuracy: 0.5296\n",
      "Epoch 39/200\n",
      "482/482 [==============================] - 1s 3ms/step - loss: 0.9468 - categorical_accuracy: 0.5261 - val_loss: 0.9468 - val_categorical_accuracy: 0.5275\n",
      "Epoch 40/200\n",
      "482/482 [==============================] - 1s 3ms/step - loss: 0.9469 - categorical_accuracy: 0.5265 - val_loss: 0.9463 - val_categorical_accuracy: 0.5284\n",
      "Epoch 41/200\n",
      "482/482 [==============================] - 1s 3ms/step - loss: 0.9465 - categorical_accuracy: 0.5269 - val_loss: 0.9459 - val_categorical_accuracy: 0.5298\n",
      "Epoch 42/200\n",
      "482/482 [==============================] - 1s 3ms/step - loss: 0.9462 - categorical_accuracy: 0.5264 - val_loss: 0.9473 - val_categorical_accuracy: 0.5273\n",
      "Epoch 43/200\n",
      "482/482 [==============================] - 1s 3ms/step - loss: 0.9467 - categorical_accuracy: 0.5275 - val_loss: 0.9461 - val_categorical_accuracy: 0.5291\n",
      "Epoch 44/200\n",
      "482/482 [==============================] - 1s 3ms/step - loss: 0.9462 - categorical_accuracy: 0.5272 - val_loss: 0.9462 - val_categorical_accuracy: 0.5285\n",
      "Epoch 45/200\n",
      "482/482 [==============================] - 1s 3ms/step - loss: 0.9465 - categorical_accuracy: 0.5261 - val_loss: 0.9480 - val_categorical_accuracy: 0.5260\n",
      "Epoch 46/200\n",
      "482/482 [==============================] - 1s 3ms/step - loss: 0.9462 - categorical_accuracy: 0.5268 - val_loss: 0.9455 - val_categorical_accuracy: 0.5279\n",
      "Epoch 47/200\n",
      "482/482 [==============================] - 1s 3ms/step - loss: 0.9462 - categorical_accuracy: 0.5270 - val_loss: 0.9458 - val_categorical_accuracy: 0.5298\n",
      "Epoch 48/200\n",
      "482/482 [==============================] - 1s 3ms/step - loss: 0.9456 - categorical_accuracy: 0.5277 - val_loss: 0.9469 - val_categorical_accuracy: 0.5270\n",
      "Epoch 49/200\n",
      "482/482 [==============================] - 1s 3ms/step - loss: 0.9457 - categorical_accuracy: 0.5269 - val_loss: 0.9458 - val_categorical_accuracy: 0.5283\n",
      "Epoch 50/200\n",
      "482/482 [==============================] - 1s 3ms/step - loss: 0.9459 - categorical_accuracy: 0.5266 - val_loss: 0.9453 - val_categorical_accuracy: 0.5279\n",
      "Epoch 51/200\n",
      "482/482 [==============================] - 1s 3ms/step - loss: 0.9457 - categorical_accuracy: 0.5275 - val_loss: 0.9446 - val_categorical_accuracy: 0.5280\n",
      "Epoch 52/200\n",
      "482/482 [==============================] - 1s 3ms/step - loss: 0.9456 - categorical_accuracy: 0.5280 - val_loss: 0.9460 - val_categorical_accuracy: 0.5269\n",
      "Epoch 53/200\n",
      "482/482 [==============================] - 1s 3ms/step - loss: 0.9451 - categorical_accuracy: 0.5272 - val_loss: 0.9449 - val_categorical_accuracy: 0.5290\n",
      "Epoch 54/200\n",
      "482/482 [==============================] - 1s 3ms/step - loss: 0.9455 - categorical_accuracy: 0.5284 - val_loss: 0.9478 - val_categorical_accuracy: 0.5260\n",
      "Epoch 55/200\n",
      "482/482 [==============================] - 1s 3ms/step - loss: 0.9455 - categorical_accuracy: 0.5273 - val_loss: 0.9451 - val_categorical_accuracy: 0.5279\n",
      "Epoch 56/200\n",
      "482/482 [==============================] - 1s 3ms/step - loss: 0.9450 - categorical_accuracy: 0.5281 - val_loss: 0.9447 - val_categorical_accuracy: 0.5288\n",
      "Epoch 57/200\n",
      "482/482 [==============================] - 1s 3ms/step - loss: 0.9449 - categorical_accuracy: 0.5279 - val_loss: 0.9450 - val_categorical_accuracy: 0.5288\n",
      "Epoch 58/200\n",
      "482/482 [==============================] - 1s 3ms/step - loss: 0.9451 - categorical_accuracy: 0.5273 - val_loss: 0.9472 - val_categorical_accuracy: 0.5265\n",
      "Epoch 59/200\n",
      "482/482 [==============================] - 1s 3ms/step - loss: 0.9450 - categorical_accuracy: 0.5283 - val_loss: 0.9456 - val_categorical_accuracy: 0.5274\n",
      "Epoch 60/200\n",
      "482/482 [==============================] - 1s 3ms/step - loss: 0.9445 - categorical_accuracy: 0.5292 - val_loss: 0.9479 - val_categorical_accuracy: 0.5274\n",
      "Epoch 61/200\n",
      "482/482 [==============================] - 1s 3ms/step - loss: 0.9448 - categorical_accuracy: 0.5272 - val_loss: 0.9449 - val_categorical_accuracy: 0.5300\n",
      "Epoch 62/200\n",
      "482/482 [==============================] - 1s 3ms/step - loss: 0.9445 - categorical_accuracy: 0.5276 - val_loss: 0.9446 - val_categorical_accuracy: 0.5292\n",
      "Epoch 63/200\n",
      "482/482 [==============================] - 1s 3ms/step - loss: 0.9445 - categorical_accuracy: 0.5276 - val_loss: 0.9443 - val_categorical_accuracy: 0.5297\n",
      "Epoch 64/200\n",
      "482/482 [==============================] - 1s 3ms/step - loss: 0.9444 - categorical_accuracy: 0.5281 - val_loss: 0.9452 - val_categorical_accuracy: 0.5272\n",
      "Epoch 65/200\n",
      "482/482 [==============================] - 1s 3ms/step - loss: 0.9444 - categorical_accuracy: 0.5280 - val_loss: 0.9449 - val_categorical_accuracy: 0.5294\n",
      "Epoch 66/200\n",
      "482/482 [==============================] - 1s 3ms/step - loss: 0.9446 - categorical_accuracy: 0.5283 - val_loss: 0.9444 - val_categorical_accuracy: 0.5295\n",
      "Epoch 67/200\n",
      "482/482 [==============================] - 1s 3ms/step - loss: 0.9445 - categorical_accuracy: 0.5286 - val_loss: 0.9449 - val_categorical_accuracy: 0.5283\n",
      "Epoch 68/200\n",
      "482/482 [==============================] - 2s 3ms/step - loss: 0.9442 - categorical_accuracy: 0.5285 - val_loss: 0.9441 - val_categorical_accuracy: 0.5290\n",
      "Epoch 69/200\n",
      "482/482 [==============================] - 1s 3ms/step - loss: 0.9442 - categorical_accuracy: 0.5282 - val_loss: 0.9454 - val_categorical_accuracy: 0.5274\n",
      "Epoch 70/200\n",
      "482/482 [==============================] - 1s 3ms/step - loss: 0.9440 - categorical_accuracy: 0.5280 - val_loss: 0.9448 - val_categorical_accuracy: 0.5289\n",
      "Epoch 71/200\n",
      "482/482 [==============================] - 2s 3ms/step - loss: 0.9441 - categorical_accuracy: 0.5283 - val_loss: 0.9488 - val_categorical_accuracy: 0.5267\n",
      "Epoch 72/200\n",
      "482/482 [==============================] - 2s 3ms/step - loss: 0.9438 - categorical_accuracy: 0.5293 - val_loss: 0.9445 - val_categorical_accuracy: 0.5303\n",
      "Epoch 73/200\n",
      "482/482 [==============================] - 1s 3ms/step - loss: 0.9440 - categorical_accuracy: 0.5278 - val_loss: 0.9447 - val_categorical_accuracy: 0.5285\n",
      "Epoch 74/200\n",
      "482/482 [==============================] - 1s 3ms/step - loss: 0.9443 - categorical_accuracy: 0.5289 - val_loss: 0.9459 - val_categorical_accuracy: 0.5282\n",
      "Epoch 75/200\n",
      "482/482 [==============================] - 1s 3ms/step - loss: 0.9441 - categorical_accuracy: 0.5289 - val_loss: 0.9469 - val_categorical_accuracy: 0.5286\n",
      "Epoch 76/200\n",
      "482/482 [==============================] - 1s 3ms/step - loss: 0.9437 - categorical_accuracy: 0.5289 - val_loss: 0.9456 - val_categorical_accuracy: 0.5292\n",
      "Epoch 77/200\n",
      "482/482 [==============================] - 1s 3ms/step - loss: 0.9437 - categorical_accuracy: 0.5287 - val_loss: 0.9444 - val_categorical_accuracy: 0.5294\n",
      "Epoch 78/200\n",
      "482/482 [==============================] - 1s 3ms/step - loss: 0.9439 - categorical_accuracy: 0.5287 - val_loss: 0.9445 - val_categorical_accuracy: 0.5298\n",
      "Epoch 79/200\n",
      "482/482 [==============================] - 1s 3ms/step - loss: 0.9438 - categorical_accuracy: 0.5288 - val_loss: 0.9442 - val_categorical_accuracy: 0.5302\n",
      "Epoch 80/200\n",
      "482/482 [==============================] - 1s 3ms/step - loss: 0.9437 - categorical_accuracy: 0.5292 - val_loss: 0.9453 - val_categorical_accuracy: 0.5299\n",
      "Epoch 81/200\n",
      "482/482 [==============================] - 1s 3ms/step - loss: 0.9436 - categorical_accuracy: 0.5296 - val_loss: 0.9440 - val_categorical_accuracy: 0.5292\n",
      "Epoch 82/200\n",
      "482/482 [==============================] - 1s 3ms/step - loss: 0.9436 - categorical_accuracy: 0.5293 - val_loss: 0.9452 - val_categorical_accuracy: 0.5275\n",
      "Epoch 83/200\n",
      "482/482 [==============================] - 1s 3ms/step - loss: 0.9435 - categorical_accuracy: 0.5295 - val_loss: 0.9439 - val_categorical_accuracy: 0.5288\n",
      "Epoch 84/200\n",
      "482/482 [==============================] - 1s 3ms/step - loss: 0.9433 - categorical_accuracy: 0.5288 - val_loss: 0.9442 - val_categorical_accuracy: 0.5286\n",
      "Epoch 85/200\n",
      "482/482 [==============================] - 1s 3ms/step - loss: 0.9433 - categorical_accuracy: 0.5297 - val_loss: 0.9442 - val_categorical_accuracy: 0.5284\n",
      "Epoch 86/200\n",
      "482/482 [==============================] - 1s 3ms/step - loss: 0.9435 - categorical_accuracy: 0.5290 - val_loss: 0.9449 - val_categorical_accuracy: 0.5289\n",
      "Epoch 87/200\n",
      "482/482 [==============================] - 1s 3ms/step - loss: 0.9436 - categorical_accuracy: 0.5289 - val_loss: 0.9440 - val_categorical_accuracy: 0.5292\n",
      "Epoch 88/200\n",
      "482/482 [==============================] - 1s 3ms/step - loss: 0.9432 - categorical_accuracy: 0.5296 - val_loss: 0.9441 - val_categorical_accuracy: 0.5291\n",
      "Epoch 89/200\n",
      "482/482 [==============================] - 1s 3ms/step - loss: 0.9431 - categorical_accuracy: 0.5302 - val_loss: 0.9448 - val_categorical_accuracy: 0.5290\n",
      "Epoch 90/200\n",
      "482/482 [==============================] - 2s 4ms/step - loss: 0.9435 - categorical_accuracy: 0.5287 - val_loss: 0.9460 - val_categorical_accuracy: 0.5294\n",
      "Epoch 91/200\n",
      "482/482 [==============================] - 2s 4ms/step - loss: 0.9434 - categorical_accuracy: 0.5291 - val_loss: 0.9441 - val_categorical_accuracy: 0.5288\n",
      "Epoch 92/200\n",
      "482/482 [==============================] - 1s 3ms/step - loss: 0.9433 - categorical_accuracy: 0.5293 - val_loss: 0.9445 - val_categorical_accuracy: 0.5298\n",
      "Epoch 93/200\n",
      "482/482 [==============================] - 1s 3ms/step - loss: 0.9432 - categorical_accuracy: 0.5291 - val_loss: 0.9465 - val_categorical_accuracy: 0.5280\n",
      "Epoch 94/200\n",
      "482/482 [==============================] - 1s 3ms/step - loss: 0.9432 - categorical_accuracy: 0.5288 - val_loss: 0.9444 - val_categorical_accuracy: 0.5294\n",
      "Epoch 95/200\n",
      "482/482 [==============================] - 1s 3ms/step - loss: 0.9429 - categorical_accuracy: 0.5290 - val_loss: 0.9441 - val_categorical_accuracy: 0.5306\n",
      "Epoch 96/200\n",
      "482/482 [==============================] - 1s 3ms/step - loss: 0.9433 - categorical_accuracy: 0.5292 - val_loss: 0.9452 - val_categorical_accuracy: 0.5299\n",
      "Epoch 97/200\n",
      "482/482 [==============================] - 1s 3ms/step - loss: 0.9430 - categorical_accuracy: 0.5287 - val_loss: 0.9453 - val_categorical_accuracy: 0.5290\n",
      "Epoch 98/200\n",
      "482/482 [==============================] - 1s 3ms/step - loss: 0.9427 - categorical_accuracy: 0.5294 - val_loss: 0.9438 - val_categorical_accuracy: 0.5299\n",
      "Epoch 99/200\n",
      "482/482 [==============================] - 1s 3ms/step - loss: 0.9428 - categorical_accuracy: 0.5293 - val_loss: 0.9469 - val_categorical_accuracy: 0.5281\n",
      "Epoch 100/200\n",
      "482/482 [==============================] - 1s 3ms/step - loss: 0.9428 - categorical_accuracy: 0.5287 - val_loss: 0.9437 - val_categorical_accuracy: 0.5294\n",
      "Epoch 101/200\n",
      "482/482 [==============================] - 1s 3ms/step - loss: 0.9427 - categorical_accuracy: 0.5290 - val_loss: 0.9450 - val_categorical_accuracy: 0.5278\n",
      "Epoch 102/200\n",
      "482/482 [==============================] - 1s 3ms/step - loss: 0.9426 - categorical_accuracy: 0.5290 - val_loss: 0.9449 - val_categorical_accuracy: 0.5299\n",
      "Epoch 103/200\n",
      "482/482 [==============================] - 1s 3ms/step - loss: 0.9426 - categorical_accuracy: 0.5303 - val_loss: 0.9437 - val_categorical_accuracy: 0.5297\n",
      "Epoch 104/200\n",
      "482/482 [==============================] - 1s 3ms/step - loss: 0.9428 - categorical_accuracy: 0.5290 - val_loss: 0.9436 - val_categorical_accuracy: 0.5290\n",
      "Epoch 105/200\n",
      "482/482 [==============================] - 1s 3ms/step - loss: 0.9428 - categorical_accuracy: 0.5294 - val_loss: 0.9444 - val_categorical_accuracy: 0.5283\n",
      "Epoch 106/200\n",
      "482/482 [==============================] - 1s 3ms/step - loss: 0.9428 - categorical_accuracy: 0.5293 - val_loss: 0.9437 - val_categorical_accuracy: 0.5299\n",
      "Epoch 107/200\n",
      "482/482 [==============================] - 1s 3ms/step - loss: 0.9427 - categorical_accuracy: 0.5299 - val_loss: 0.9457 - val_categorical_accuracy: 0.5299\n",
      "Epoch 108/200\n",
      "482/482 [==============================] - 1s 3ms/step - loss: 0.9424 - categorical_accuracy: 0.5301 - val_loss: 0.9437 - val_categorical_accuracy: 0.5293\n",
      "Epoch 109/200\n",
      "482/482 [==============================] - 1s 3ms/step - loss: 0.9425 - categorical_accuracy: 0.5301 - val_loss: 0.9436 - val_categorical_accuracy: 0.5299\n",
      "Epoch 110/200\n",
      "482/482 [==============================] - 1s 3ms/step - loss: 0.9424 - categorical_accuracy: 0.5296 - val_loss: 0.9446 - val_categorical_accuracy: 0.5276\n",
      "Epoch 111/200\n",
      "482/482 [==============================] - 1s 3ms/step - loss: 0.9425 - categorical_accuracy: 0.5294 - val_loss: 0.9438 - val_categorical_accuracy: 0.5301\n",
      "Epoch 112/200\n",
      "482/482 [==============================] - 1s 3ms/step - loss: 0.9424 - categorical_accuracy: 0.5296 - val_loss: 0.9443 - val_categorical_accuracy: 0.5296\n",
      "Epoch 113/200\n",
      "482/482 [==============================] - 1s 3ms/step - loss: 0.9425 - categorical_accuracy: 0.5298 - val_loss: 0.9446 - val_categorical_accuracy: 0.5303\n",
      "Epoch 114/200\n",
      "482/482 [==============================] - 1s 3ms/step - loss: 0.9426 - categorical_accuracy: 0.5294 - val_loss: 0.9458 - val_categorical_accuracy: 0.5283\n",
      "Epoch 115/200\n",
      "482/482 [==============================] - 1s 3ms/step - loss: 0.9423 - categorical_accuracy: 0.5296 - val_loss: 0.9448 - val_categorical_accuracy: 0.5279\n",
      "Epoch 116/200\n",
      "482/482 [==============================] - 1s 3ms/step - loss: 0.9424 - categorical_accuracy: 0.5295 - val_loss: 0.9439 - val_categorical_accuracy: 0.5296\n",
      "Epoch 117/200\n",
      "482/482 [==============================] - 1s 3ms/step - loss: 0.9426 - categorical_accuracy: 0.5301 - val_loss: 0.9440 - val_categorical_accuracy: 0.5290\n",
      "Epoch 118/200\n",
      "482/482 [==============================] - 1s 3ms/step - loss: 0.9423 - categorical_accuracy: 0.5298 - val_loss: 0.9467 - val_categorical_accuracy: 0.5286\n",
      "Epoch 119/200\n",
      "482/482 [==============================] - 1s 3ms/step - loss: 0.9422 - categorical_accuracy: 0.5308 - val_loss: 0.9444 - val_categorical_accuracy: 0.5295\n",
      "Epoch 120/200\n",
      "482/482 [==============================] - 1s 3ms/step - loss: 0.9425 - categorical_accuracy: 0.5294 - val_loss: 0.9448 - val_categorical_accuracy: 0.5295\n",
      "Epoch 121/200\n",
      "482/482 [==============================] - 1s 3ms/step - loss: 0.9425 - categorical_accuracy: 0.5298 - val_loss: 0.9461 - val_categorical_accuracy: 0.5280\n",
      "Epoch 122/200\n",
      "482/482 [==============================] - 1s 3ms/step - loss: 0.9424 - categorical_accuracy: 0.5302 - val_loss: 0.9434 - val_categorical_accuracy: 0.5298\n",
      "Epoch 123/200\n",
      "482/482 [==============================] - 1s 3ms/step - loss: 0.9424 - categorical_accuracy: 0.5305 - val_loss: 0.9454 - val_categorical_accuracy: 0.5292\n",
      "Epoch 124/200\n",
      "482/482 [==============================] - 1s 3ms/step - loss: 0.9421 - categorical_accuracy: 0.5301 - val_loss: 0.9438 - val_categorical_accuracy: 0.5304\n",
      "Epoch 125/200\n",
      "482/482 [==============================] - 1s 3ms/step - loss: 0.9423 - categorical_accuracy: 0.5299 - val_loss: 0.9443 - val_categorical_accuracy: 0.5290\n",
      "Epoch 126/200\n",
      "482/482 [==============================] - 1s 3ms/step - loss: 0.9420 - categorical_accuracy: 0.5306 - val_loss: 0.9446 - val_categorical_accuracy: 0.5288\n",
      "Epoch 127/200\n",
      "482/482 [==============================] - 1s 3ms/step - loss: 0.9420 - categorical_accuracy: 0.5313 - val_loss: 0.9439 - val_categorical_accuracy: 0.5288\n",
      "Epoch 128/200\n",
      "482/482 [==============================] - 1s 3ms/step - loss: 0.9422 - categorical_accuracy: 0.5309 - val_loss: 0.9439 - val_categorical_accuracy: 0.5293\n",
      "Epoch 129/200\n",
      "482/482 [==============================] - 1s 3ms/step - loss: 0.9421 - categorical_accuracy: 0.5305 - val_loss: 0.9439 - val_categorical_accuracy: 0.5294\n",
      "Epoch 130/200\n",
      "482/482 [==============================] - 1s 3ms/step - loss: 0.9420 - categorical_accuracy: 0.5302 - val_loss: 0.9441 - val_categorical_accuracy: 0.5282\n",
      "Epoch 131/200\n",
      "482/482 [==============================] - 2s 3ms/step - loss: 0.9419 - categorical_accuracy: 0.5300 - val_loss: 0.9449 - val_categorical_accuracy: 0.5302\n",
      "Epoch 132/200\n",
      "482/482 [==============================] - 2s 3ms/step - loss: 0.9421 - categorical_accuracy: 0.5302 - val_loss: 0.9447 - val_categorical_accuracy: 0.5282\n",
      "Epoch 133/200\n",
      "482/482 [==============================] - 1s 3ms/step - loss: 0.9420 - categorical_accuracy: 0.5304 - val_loss: 0.9446 - val_categorical_accuracy: 0.5295\n",
      "Epoch 134/200\n",
      "482/482 [==============================] - 1s 3ms/step - loss: 0.9420 - categorical_accuracy: 0.5304 - val_loss: 0.9438 - val_categorical_accuracy: 0.5300\n",
      "Epoch 135/200\n",
      "482/482 [==============================] - 2s 4ms/step - loss: 0.9420 - categorical_accuracy: 0.5305 - val_loss: 0.9437 - val_categorical_accuracy: 0.5299\n",
      "Epoch 136/200\n",
      "482/482 [==============================] - 2s 4ms/step - loss: 0.9420 - categorical_accuracy: 0.5302 - val_loss: 0.9476 - val_categorical_accuracy: 0.5279\n",
      "Epoch 137/200\n",
      "482/482 [==============================] - 2s 3ms/step - loss: 0.9420 - categorical_accuracy: 0.5302 - val_loss: 0.9447 - val_categorical_accuracy: 0.5284\n",
      "Epoch 137: early stopping\n"
     ]
    },
    {
     "data": {
      "text/plain": [
       "<keras.callbacks.History at 0x1b44a52fc40>"
      ]
     },
     "execution_count": 47,
     "metadata": {},
     "output_type": "execute_result"
    }
   ],
   "source": [
    "# Importamos la clase EarlyStopping desde keras.callbacks\n",
    "from keras.callbacks import EarlyStopping\n",
    "\n",
    "# Definimos un objeto de EarlyStopping con monitorización en 'val_loss', modo 'min' y patience de 15.\n",
    "early_stop = EarlyStopping(\n",
    "    monitor='val_loss',\n",
    "    mode='min',\n",
    "    patience=15,\n",
    "    verbose=1\n",
    ")\n",
    "\n",
    "# Ajustamos nuestro modelo a los conjuntos de entrenamiento, con 200 epochs y un tamaño de batch de 256 haciendo llamado a early_stop\n",
    "model.fit(\n",
    "    x=X_train,\n",
    "    y=y_train,\n",
    "    epochs=200,\n",
    "    batch_size=256,\n",
    "    validation_data=(X_test, y_test),\n",
    "    callbacks=[early_stop],\n",
    "    verbose=1\n",
    ")"
   ]
  },
  {
   "cell_type": "code",
   "execution_count": 48,
   "metadata": {},
   "outputs": [
    {
     "data": {
      "text/plain": [
       "<AxesSubplot: >"
      ]
     },
     "execution_count": 48,
     "metadata": {},
     "output_type": "execute_result"
    },
    {
     "data": {
      "image/png": "[encoded data removed]",
      "text/plain": [
       "<Figure size 640x480 with 1 Axes>"
      ]
     },
     "metadata": {},
     "output_type": "display_data"
    }
   ],
   "source": [
    "# Visualizamos las pérdidas\n",
    "model_loss = pd.DataFrame(model.history.history)\n",
    "model_loss.plot()"
   ]
  },
  {
   "cell_type": "markdown",
   "metadata": {},
   "source": [
    "# Evaluación del modelo"
   ]
  },
  {
   "cell_type": "code",
   "execution_count": 49,
   "metadata": {},
   "outputs": [],
   "source": [
    "# Importamos los métodos necesarios\n",
    "from sklearn.metrics import classification_report, confusion_matrix"
   ]
  },
  {
   "cell_type": "code",
   "execution_count": 50,
   "metadata": {},
   "outputs": [
    {
     "name": "stdout",
     "output_type": "stream",
     "text": [
      "1284/1284 [==============================] - 2s 2ms/step\n"
     ]
    },
    {
     "data": {
      "text/plain": [
       "array([[0.04701634, 0.28940773, 0.6635759 ],\n",
       "       [0.34828293, 0.41954654, 0.23217063],\n",
       "       [0.34327394, 0.44359103, 0.21313503],\n",
       "       ...,\n",
       "       [0.21494469, 0.5848069 , 0.20024839],\n",
       "       [0.10195479, 0.3734636 , 0.5245816 ],\n",
       "       [0.31458214, 0.50378126, 0.1816366 ]], dtype=float32)"
      ]
     },
     "execution_count": 50,
     "metadata": {},
     "output_type": "execute_result"
    }
   ],
   "source": [
    "# Realizamos una predicción sobre el conjunto de test. Nos devuelve una matriz con las probabilidades de cada clase para cada registro\n",
    "predictions = model.predict(X_test)\n",
    "predictions"
   ]
  },
  {
   "cell_type": "code",
   "execution_count": 51,
   "metadata": {},
   "outputs": [
    {
     "data": {
      "text/plain": [
       "array([2, 1, 1, ..., 1, 2, 1], dtype=int64)"
      ]
     },
     "execution_count": 51,
     "metadata": {},
     "output_type": "execute_result"
    }
   ],
   "source": [
    "# Para poder realizar la comparativa realizamos un np.argmax, que nos devuelve un array con el índice de la clase con mayor probabilidad para cada registro\n",
    "predictions_lab = np.argmax(predictions, axis=-1)\n",
    "predictions_lab"
   ]
  },
  {
   "cell_type": "code",
   "execution_count": 52,
   "metadata": {},
   "outputs": [
    {
     "data": {
      "text/plain": [
       "array([3, 2, 2, ..., 2, 3, 2], dtype=int64)"
      ]
     },
     "execution_count": 52,
     "metadata": {},
     "output_type": "execute_result"
    }
   ],
   "source": [
    "# Definimos un array con el valor de la clase real para cada registro (el índice 0 corresponde a clase 1, el 1 a la 2 y el 2 a la 3)\n",
    "predictions_lab_real = predictions_lab + 1\n",
    "predictions_lab_real"
   ]
  },
  {
   "cell_type": "code",
   "execution_count": 53,
   "metadata": {},
   "outputs": [],
   "source": [
    "# Creamos un dataframe con los valores reales y los nombres de las columnas\n",
    "df_test_lab = pd.DataFrame(y_test, columns=['Interest Rate 1', 'Interest Rate 2', 'Interest Rate 3'])\n",
    "\n",
    "# Creamos una columna en el nuevo dataframe que contenga la etiqueta de la clase real\n",
    "    # np.where(condición, valor si verdadero, valor si falso)\n",
    "df_test_lab['Clase Real'] = np.where(\n",
    "    df_test_lab['Interest Rate 1'] == 1,                #-----------------------------Condición\n",
    "    1,                                                  #-----------------------------Valor si verdadero\n",
    "    np.where(                                           #----------------------------\n",
    "        df_test_lab['Interest Rate 2'] == 1,            # Condición                 |\n",
    "        2,                                              # Valor si verdadero        |-Valor si falso\n",
    "        3                                               # Valor si falso            |\n",
    "    )                                                   #----------------------------\n",
    ")"
   ]
  },
  {
   "cell_type": "code",
   "execution_count": 54,
   "metadata": {},
   "outputs": [
    {
     "data": {
      "text/plain": [
       "array([[ 1485,  5264,  1596],\n",
       "       [ 1276, 10819,  5547],\n",
       "       [  353,  5335,  9402]], dtype=int64)"
      ]
     },
     "execution_count": 54,
     "metadata": {},
     "output_type": "execute_result"
    }
   ],
   "source": [
    "# Creación de una matriz de confusión\n",
    "\n",
    "# Definimos un array de las clases\n",
    "clases = [1, 2, 3]\n",
    "\n",
    "# Definimos un array a partir de los valores de la columna Clase Real convertidos en objetos de clase Numpy\n",
    "array_clase_real = df_test_lab['Clase Real'].to_numpy()\n",
    "\n",
    "# Creamos la matriz comparando el array de clases reales, con las predicciones, con las etiquetas que definimos en clases\n",
    "confusion_matrix(array_clase_real, predictions_lab_real, labels=clases)"
   ]
  },
  {
   "cell_type": "code",
   "execution_count": 55,
   "metadata": {},
   "outputs": [],
   "source": [
    "# Creamos una función para generar un plot de la matriz de confusión\n",
    "def plot_confusion_matrix(cm, classes, normalize=False, title='Confusion Matrix', cmap='Blues'):\n",
    "    \"\"\"\n",
    "    This function prints and plots the confusion matrix.\n",
    "    Normalization can be applied by setting 'normalize=True'.\n",
    "    Source: https://datascience.stackexchange.com/questions/40067/confusion-matrix-three-classes-python/40068\n",
    "    \"\"\"\n",
    "    import itertools\n",
    "    if normalize:\n",
    "        cm = cm.astype('float') / cm.sum(axis=1)[:, np.newaxis]\n",
    "        print('Normalized confusion matrix')\n",
    "    else:\n",
    "        print('Not normalized confusion matrix')\n",
    "    \n",
    "    print(cm)\n",
    "\n",
    "    plt.imshow(cm, interpolation='nearest', cmap=cmap)\n",
    "    plt.title(title)\n",
    "    plt.colorbar()\n",
    "    tick_marks = np.arange(len(classes))\n",
    "    plt.xticks(tick_marks, classes, rotation=45)\n",
    "    plt.yticks(tick_marks, classes)\n",
    "\n",
    "    fmt = '.2f' if normalize else 'd'\n",
    "    thresh = cm.max() / 2.\n",
    "    for i, j in itertools.product(range(cm.shape[0]), range(cm.shape[1])):\n",
    "        plt.text(j, i, format(cm[i, j], fmt), horizontalalignment='center', color='white' if cm[i, j] > thresh else 'black')\n",
    "\n",
    "    plt.ylabel('True label')\n",
    "    plt.xlabel('Predicted label')\n",
    "    plt.tight_layout()"
   ]
  },
  {
   "cell_type": "code",
   "execution_count": 56,
   "metadata": {},
   "outputs": [
    {
     "name": "stdout",
     "output_type": "stream",
     "text": [
      "Not normalized confusion matrix\n",
      "[[ 1485  5264  1596]\n",
      " [ 1276 10819  5547]\n",
      " [  353  5335  9402]]\n"
     ]
    },
    {
     "data": {
      "image/png": "[encoded data removed]",
      "text/plain": [
       "<Figure size 640x480 with 2 Axes>"
      ]
     },
     "metadata": {},
     "output_type": "display_data"
    }
   ],
   "source": [
    "# Definimos una variable con la matriz de confusión\n",
    "cnf_matrix = confusion_matrix(array_clase_real, predictions_lab_real, labels=clases)\n",
    "np.set_printoptions(precision=2)\n",
    "\n",
    "# Creamos una figura\n",
    "plt.figure()\n",
    "\n",
    "# Ejecutamos la función para generar el plot de la matriz de confusión\n",
    "plot_confusion_matrix(cnf_matrix, classes=clases, title='Matriz de confusión sin normalizar')"
   ]
  },
  {
   "cell_type": "markdown",
   "metadata": {},
   "source": [
    "# Predicción de nuevos datos"
   ]
  },
  {
   "cell_type": "code",
   "execution_count": 61,
   "metadata": {},
   "outputs": [
    {
     "name": "stderr",
     "output_type": "stream",
     "text": [
      "C:\\Users\\pety2\\AppData\\Roaming\\Python\\Python310\\site-packages\\sklearn\\base.py:443: UserWarning: X has feature names, but MinMaxScaler was fitted without feature names\n",
      "  warnings.warn(\n"
     ]
    },
    {
     "name": "stdout",
     "output_type": "stream",
     "text": [
      "1/1 [==============================] - 0s 339ms/step\n"
     ]
    },
    {
     "data": {
      "text/html": [
       "<div>\n",
       "<style scoped>\n",
       "    .dataframe tbody tr th:only-of-type {\n",
       "        vertical-align: middle;\n",
       "    }\n",
       "\n",
       "    .dataframe tbody tr th {\n",
       "        vertical-align: top;\n",
       "    }\n",
       "\n",
       "    .dataframe thead th {\n",
       "        text-align: right;\n",
       "    }\n",
       "</style>\n",
       "<table border=\"1\" class=\"dataframe\">\n",
       "  <thead>\n",
       "    <tr style=\"text-align: right;\">\n",
       "      <th></th>\n",
       "      <th>Loan_Amount_Requested</th>\n",
       "      <th>Length_Employed</th>\n",
       "      <th>Home_Owner</th>\n",
       "      <th>Annual_Income</th>\n",
       "      <th>Purpose_Of_Loan</th>\n",
       "      <th>Debt_To_Income</th>\n",
       "      <th>Inquiries_Last_6Mo</th>\n",
       "      <th>Total_Accounts</th>\n",
       "      <th>Gender</th>\n",
       "      <th>Interest_Rate</th>\n",
       "      <th>PREDICCIÓN</th>\n",
       "    </tr>\n",
       "  </thead>\n",
       "  <tbody>\n",
       "    <tr>\n",
       "      <th>0</th>\n",
       "      <td>7.000</td>\n",
       "      <td>0</td>\n",
       "      <td>Rent</td>\n",
       "      <td>55000.0</td>\n",
       "      <td>car</td>\n",
       "      <td>18.37</td>\n",
       "      <td>0</td>\n",
       "      <td>14</td>\n",
       "      <td>Female</td>\n",
       "      <td>1</td>\n",
       "      <td>3</td>\n",
       "    </tr>\n",
       "    <tr>\n",
       "      <th>1</th>\n",
       "      <td>30.000</td>\n",
       "      <td>4</td>\n",
       "      <td>Mortgage</td>\n",
       "      <td>40000.0</td>\n",
       "      <td>debt_consolidation</td>\n",
       "      <td>14.93</td>\n",
       "      <td>0</td>\n",
       "      <td>24</td>\n",
       "      <td>Female</td>\n",
       "      <td>3</td>\n",
       "      <td>2</td>\n",
       "    </tr>\n",
       "    <tr>\n",
       "      <th>2</th>\n",
       "      <td>24.725</td>\n",
       "      <td>7</td>\n",
       "      <td>Mortgage</td>\n",
       "      <td>75566.4</td>\n",
       "      <td>debt_consolidation</td>\n",
       "      <td>15.88</td>\n",
       "      <td>0</td>\n",
       "      <td>16</td>\n",
       "      <td>Male</td>\n",
       "      <td>3</td>\n",
       "      <td>2</td>\n",
       "    </tr>\n",
       "    <tr>\n",
       "      <th>3</th>\n",
       "      <td>16.000</td>\n",
       "      <td>0</td>\n",
       "      <td>Mortgage</td>\n",
       "      <td>56160.0</td>\n",
       "      <td>debt_consolidation</td>\n",
       "      <td>14.34</td>\n",
       "      <td>3</td>\n",
       "      <td>22</td>\n",
       "      <td>Male</td>\n",
       "      <td>3</td>\n",
       "      <td>2</td>\n",
       "    </tr>\n",
       "    <tr>\n",
       "      <th>4</th>\n",
       "      <td>17.000</td>\n",
       "      <td>8</td>\n",
       "      <td>Own</td>\n",
       "      <td>96000.0</td>\n",
       "      <td>debt_consolidation</td>\n",
       "      <td>22.17</td>\n",
       "      <td>1</td>\n",
       "      <td>30</td>\n",
       "      <td>Female</td>\n",
       "      <td>1</td>\n",
       "      <td>3</td>\n",
       "    </tr>\n",
       "    <tr>\n",
       "      <th>5</th>\n",
       "      <td>4.500</td>\n",
       "      <td>2</td>\n",
       "      <td>Rent</td>\n",
       "      <td>30000.0</td>\n",
       "      <td>credit_card</td>\n",
       "      <td>10.88</td>\n",
       "      <td>1</td>\n",
       "      <td>15</td>\n",
       "      <td>Male</td>\n",
       "      <td>3</td>\n",
       "      <td>3</td>\n",
       "    </tr>\n",
       "    <tr>\n",
       "      <th>6</th>\n",
       "      <td>18.075</td>\n",
       "      <td>4</td>\n",
       "      <td>Rent</td>\n",
       "      <td>85000.0</td>\n",
       "      <td>debt_consolidation</td>\n",
       "      <td>5.65</td>\n",
       "      <td>0</td>\n",
       "      <td>12</td>\n",
       "      <td>Male</td>\n",
       "      <td>3</td>\n",
       "      <td>2</td>\n",
       "    </tr>\n",
       "    <tr>\n",
       "      <th>7</th>\n",
       "      <td>15.000</td>\n",
       "      <td>0</td>\n",
       "      <td>Rent</td>\n",
       "      <td>115000.0</td>\n",
       "      <td>debt_consolidation</td>\n",
       "      <td>7.97</td>\n",
       "      <td>1</td>\n",
       "      <td>31</td>\n",
       "      <td>Female</td>\n",
       "      <td>2</td>\n",
       "      <td>3</td>\n",
       "    </tr>\n",
       "    <tr>\n",
       "      <th>8</th>\n",
       "      <td>6.300</td>\n",
       "      <td>10</td>\n",
       "      <td>Rent</td>\n",
       "      <td>125000.0</td>\n",
       "      <td>debt_consolidation</td>\n",
       "      <td>16.12</td>\n",
       "      <td>3</td>\n",
       "      <td>9</td>\n",
       "      <td>Female</td>\n",
       "      <td>3</td>\n",
       "      <td>3</td>\n",
       "    </tr>\n",
       "    <tr>\n",
       "      <th>9</th>\n",
       "      <td>30.000</td>\n",
       "      <td>10</td>\n",
       "      <td>Own</td>\n",
       "      <td>163000.0</td>\n",
       "      <td>debt_consolidation</td>\n",
       "      <td>11.13</td>\n",
       "      <td>0</td>\n",
       "      <td>43</td>\n",
       "      <td>Male</td>\n",
       "      <td>1</td>\n",
       "      <td>2</td>\n",
       "    </tr>\n",
       "    <tr>\n",
       "      <th>10</th>\n",
       "      <td>11.700</td>\n",
       "      <td>10</td>\n",
       "      <td>Mortgage</td>\n",
       "      <td>62000.0</td>\n",
       "      <td>debt_consolidation</td>\n",
       "      <td>30.91</td>\n",
       "      <td>0</td>\n",
       "      <td>22</td>\n",
       "      <td>Male</td>\n",
       "      <td>2</td>\n",
       "      <td>2</td>\n",
       "    </tr>\n",
       "    <tr>\n",
       "      <th>11</th>\n",
       "      <td>15.000</td>\n",
       "      <td>10</td>\n",
       "      <td>Rent</td>\n",
       "      <td>70000.0</td>\n",
       "      <td>credit_card</td>\n",
       "      <td>8.95</td>\n",
       "      <td>0</td>\n",
       "      <td>13</td>\n",
       "      <td>Male</td>\n",
       "      <td>2</td>\n",
       "      <td>2</td>\n",
       "    </tr>\n",
       "    <tr>\n",
       "      <th>12</th>\n",
       "      <td>7.200</td>\n",
       "      <td>10</td>\n",
       "      <td>Rent</td>\n",
       "      <td>55000.0</td>\n",
       "      <td>debt_consolidation</td>\n",
       "      <td>31.25</td>\n",
       "      <td>0</td>\n",
       "      <td>16</td>\n",
       "      <td>Male</td>\n",
       "      <td>2</td>\n",
       "      <td>3</td>\n",
       "    </tr>\n",
       "    <tr>\n",
       "      <th>13</th>\n",
       "      <td>7.200</td>\n",
       "      <td>10</td>\n",
       "      <td>Rent</td>\n",
       "      <td>55000.0</td>\n",
       "      <td>car</td>\n",
       "      <td>31.25</td>\n",
       "      <td>0</td>\n",
       "      <td>16</td>\n",
       "      <td>Male</td>\n",
       "      <td>2</td>\n",
       "      <td>2</td>\n",
       "    </tr>\n",
       "    <tr>\n",
       "      <th>14</th>\n",
       "      <td>7.200</td>\n",
       "      <td>10</td>\n",
       "      <td>Mortgage</td>\n",
       "      <td>55000.0</td>\n",
       "      <td>debt_consolidation</td>\n",
       "      <td>31.25</td>\n",
       "      <td>0</td>\n",
       "      <td>16</td>\n",
       "      <td>Male</td>\n",
       "      <td>2</td>\n",
       "      <td>2</td>\n",
       "    </tr>\n",
       "    <tr>\n",
       "      <th>15</th>\n",
       "      <td>7.200</td>\n",
       "      <td>10</td>\n",
       "      <td>Own</td>\n",
       "      <td>55000.0</td>\n",
       "      <td>credit_card</td>\n",
       "      <td>31.25</td>\n",
       "      <td>0</td>\n",
       "      <td>16</td>\n",
       "      <td>Male</td>\n",
       "      <td>2</td>\n",
       "      <td>2</td>\n",
       "    </tr>\n",
       "    <tr>\n",
       "      <th>16</th>\n",
       "      <td>7.200</td>\n",
       "      <td>10</td>\n",
       "      <td>Other</td>\n",
       "      <td>55000.0</td>\n",
       "      <td>home_improvement</td>\n",
       "      <td>31.25</td>\n",
       "      <td>0</td>\n",
       "      <td>16</td>\n",
       "      <td>Male</td>\n",
       "      <td>2</td>\n",
       "      <td>2</td>\n",
       "    </tr>\n",
       "    <tr>\n",
       "      <th>17</th>\n",
       "      <td>7.200</td>\n",
       "      <td>10</td>\n",
       "      <td>None</td>\n",
       "      <td>55000.0</td>\n",
       "      <td>major_purchase</td>\n",
       "      <td>31.25</td>\n",
       "      <td>0</td>\n",
       "      <td>16</td>\n",
       "      <td>Male</td>\n",
       "      <td>2</td>\n",
       "      <td>1</td>\n",
       "    </tr>\n",
       "    <tr>\n",
       "      <th>18</th>\n",
       "      <td>7.200</td>\n",
       "      <td>10</td>\n",
       "      <td>Rent</td>\n",
       "      <td>55000.0</td>\n",
       "      <td>other</td>\n",
       "      <td>31.25</td>\n",
       "      <td>0</td>\n",
       "      <td>16</td>\n",
       "      <td>Male</td>\n",
       "      <td>2</td>\n",
       "      <td>3</td>\n",
       "    </tr>\n",
       "    <tr>\n",
       "      <th>19</th>\n",
       "      <td>7.200</td>\n",
       "      <td>10</td>\n",
       "      <td>Mortgage</td>\n",
       "      <td>55000.0</td>\n",
       "      <td>medical</td>\n",
       "      <td>31.25</td>\n",
       "      <td>0</td>\n",
       "      <td>16</td>\n",
       "      <td>Male</td>\n",
       "      <td>2</td>\n",
       "      <td>3</td>\n",
       "    </tr>\n",
       "    <tr>\n",
       "      <th>20</th>\n",
       "      <td>7.200</td>\n",
       "      <td>10</td>\n",
       "      <td>Own</td>\n",
       "      <td>55000.0</td>\n",
       "      <td>small_business</td>\n",
       "      <td>31.25</td>\n",
       "      <td>0</td>\n",
       "      <td>16</td>\n",
       "      <td>Male</td>\n",
       "      <td>2</td>\n",
       "      <td>3</td>\n",
       "    </tr>\n",
       "    <tr>\n",
       "      <th>21</th>\n",
       "      <td>7.200</td>\n",
       "      <td>10</td>\n",
       "      <td>Other</td>\n",
       "      <td>55000.0</td>\n",
       "      <td>moving</td>\n",
       "      <td>31.25</td>\n",
       "      <td>0</td>\n",
       "      <td>16</td>\n",
       "      <td>Male</td>\n",
       "      <td>2</td>\n",
       "      <td>2</td>\n",
       "    </tr>\n",
       "    <tr>\n",
       "      <th>22</th>\n",
       "      <td>7.200</td>\n",
       "      <td>10</td>\n",
       "      <td>None</td>\n",
       "      <td>55000.0</td>\n",
       "      <td>wedding</td>\n",
       "      <td>31.25</td>\n",
       "      <td>0</td>\n",
       "      <td>16</td>\n",
       "      <td>Male</td>\n",
       "      <td>2</td>\n",
       "      <td>3</td>\n",
       "    </tr>\n",
       "    <tr>\n",
       "      <th>23</th>\n",
       "      <td>7.200</td>\n",
       "      <td>10</td>\n",
       "      <td>Rent</td>\n",
       "      <td>55000.0</td>\n",
       "      <td>vacation</td>\n",
       "      <td>31.25</td>\n",
       "      <td>0</td>\n",
       "      <td>16</td>\n",
       "      <td>Male</td>\n",
       "      <td>2</td>\n",
       "      <td>3</td>\n",
       "    </tr>\n",
       "    <tr>\n",
       "      <th>24</th>\n",
       "      <td>7.200</td>\n",
       "      <td>10</td>\n",
       "      <td>Mortgage</td>\n",
       "      <td>55000.0</td>\n",
       "      <td>house</td>\n",
       "      <td>31.25</td>\n",
       "      <td>0</td>\n",
       "      <td>16</td>\n",
       "      <td>Male</td>\n",
       "      <td>2</td>\n",
       "      <td>3</td>\n",
       "    </tr>\n",
       "    <tr>\n",
       "      <th>25</th>\n",
       "      <td>7.200</td>\n",
       "      <td>10</td>\n",
       "      <td>Own</td>\n",
       "      <td>55000.0</td>\n",
       "      <td>educational</td>\n",
       "      <td>31.25</td>\n",
       "      <td>0</td>\n",
       "      <td>16</td>\n",
       "      <td>Male</td>\n",
       "      <td>2</td>\n",
       "      <td>1</td>\n",
       "    </tr>\n",
       "    <tr>\n",
       "      <th>26</th>\n",
       "      <td>7.200</td>\n",
       "      <td>10</td>\n",
       "      <td>Other</td>\n",
       "      <td>55000.0</td>\n",
       "      <td>renewable_energy</td>\n",
       "      <td>31.25</td>\n",
       "      <td>0</td>\n",
       "      <td>16</td>\n",
       "      <td>Male</td>\n",
       "      <td>2</td>\n",
       "      <td>2</td>\n",
       "    </tr>\n",
       "  </tbody>\n",
       "</table>\n",
       "</div>"
      ],
      "text/plain": [
       "    Loan_Amount_Requested  Length_Employed Home_Owner  Annual_Income  \\\n",
       "0                   7.000                0       Rent        55000.0   \n",
       "1                  30.000                4   Mortgage        40000.0   \n",
       "2                  24.725                7   Mortgage        75566.4   \n",
       "3                  16.000                0   Mortgage        56160.0   \n",
       "4                  17.000                8        Own        96000.0   \n",
       "5                   4.500                2       Rent        30000.0   \n",
       "6                  18.075                4       Rent        85000.0   \n",
       "7                  15.000                0       Rent       115000.0   \n",
       "8                   6.300               10       Rent       125000.0   \n",
       "9                  30.000               10        Own       163000.0   \n",
       "10                 11.700               10   Mortgage        62000.0   \n",
       "11                 15.000               10       Rent        70000.0   \n",
       "12                  7.200               10       Rent        55000.0   \n",
       "13                  7.200               10       Rent        55000.0   \n",
       "14                  7.200               10   Mortgage        55000.0   \n",
       "15                  7.200               10        Own        55000.0   \n",
       "16                  7.200               10      Other        55000.0   \n",
       "17                  7.200               10       None        55000.0   \n",
       "18                  7.200               10       Rent        55000.0   \n",
       "19                  7.200               10   Mortgage        55000.0   \n",
       "20                  7.200               10        Own        55000.0   \n",
       "21                  7.200               10      Other        55000.0   \n",
       "22                  7.200               10       None        55000.0   \n",
       "23                  7.200               10       Rent        55000.0   \n",
       "24                  7.200               10   Mortgage        55000.0   \n",
       "25                  7.200               10        Own        55000.0   \n",
       "26                  7.200               10      Other        55000.0   \n",
       "\n",
       "       Purpose_Of_Loan  Debt_To_Income  Inquiries_Last_6Mo  Total_Accounts  \\\n",
       "0                  car           18.37                   0              14   \n",
       "1   debt_consolidation           14.93                   0              24   \n",
       "2   debt_consolidation           15.88                   0              16   \n",
       "3   debt_consolidation           14.34                   3              22   \n",
       "4   debt_consolidation           22.17                   1              30   \n",
       "5          credit_card           10.88                   1              15   \n",
       "6   debt_consolidation            5.65                   0              12   \n",
       "7   debt_consolidation            7.97                   1              31   \n",
       "8   debt_consolidation           16.12                   3               9   \n",
       "9   debt_consolidation           11.13                   0              43   \n",
       "10  debt_consolidation           30.91                   0              22   \n",
       "11         credit_card            8.95                   0              13   \n",
       "12  debt_consolidation           31.25                   0              16   \n",
       "13                 car           31.25                   0              16   \n",
       "14  debt_consolidation           31.25                   0              16   \n",
       "15         credit_card           31.25                   0              16   \n",
       "16    home_improvement           31.25                   0              16   \n",
       "17      major_purchase           31.25                   0              16   \n",
       "18               other           31.25                   0              16   \n",
       "19             medical           31.25                   0              16   \n",
       "20      small_business           31.25                   0              16   \n",
       "21              moving           31.25                   0              16   \n",
       "22             wedding           31.25                   0              16   \n",
       "23            vacation           31.25                   0              16   \n",
       "24               house           31.25                   0              16   \n",
       "25         educational           31.25                   0              16   \n",
       "26    renewable_energy           31.25                   0              16   \n",
       "\n",
       "    Gender  Interest_Rate  PREDICCIÓN  \n",
       "0   Female              1           3  \n",
       "1   Female              3           2  \n",
       "2     Male              3           2  \n",
       "3     Male              3           2  \n",
       "4   Female              1           3  \n",
       "5     Male              3           3  \n",
       "6     Male              3           2  \n",
       "7   Female              2           3  \n",
       "8   Female              3           3  \n",
       "9     Male              1           2  \n",
       "10    Male              2           2  \n",
       "11    Male              2           2  \n",
       "12    Male              2           3  \n",
       "13    Male              2           2  \n",
       "14    Male              2           2  \n",
       "15    Male              2           2  \n",
       "16    Male              2           2  \n",
       "17    Male              2           1  \n",
       "18    Male              2           3  \n",
       "19    Male              2           3  \n",
       "20    Male              2           3  \n",
       "21    Male              2           2  \n",
       "22    Male              2           3  \n",
       "23    Male              2           3  \n",
       "24    Male              2           3  \n",
       "25    Male              2           1  \n",
       "26    Male              2           2  "
      ]
     },
     "execution_count": 61,
     "metadata": {},
     "output_type": "execute_result"
    }
   ],
   "source": [
    "# Creación del dataframe con los datos a predecir\n",
    "df_pred = pd.read_excel('./datasets/info_prestamos_predecir.xlsx', sheet_name='info_prestamos_predecir')\n",
    "\n",
    "# Filtramos el nuevo dataframe para quedarnos con las mismas columnas que en el dataframe histórico\n",
    "df_pred = df_pred[df.columns]\n",
    "\n",
    "# Transformamos las variables para que coincidan con el dataframe histórico\n",
    "\n",
    "# Sustituimos '< 1 year' por '0 years' en la columna Length_Employed\n",
    "df_pred['Length_Employed'] = df_pred['Length_Employed'].str.replace('< 1 year', '0 years')\n",
    "\n",
    "# Nos quedamos únicamente con los valores numéricos de la columna Length_Employed\n",
    "df_pred['Length_Employed'] = df_pred['Length_Employed'].str.extract('(\\d+)')\n",
    "\n",
    "# Convertimos la columna Length_Employed en datos numéricos\n",
    "df_pred['Length_Employed'] = df_pred['Length_Employed'].apply(pd.to_numeric)\n",
    "\n",
    "# Completamos los valores nulos si los hubiera\n",
    "df_pred['Length_Employed'] = df_pred.apply(lambda x: completar_len_emp(x['Total_Accounts'], x['Length_Employed']), axis=1)\n",
    "\n",
    "# Creamos las columnas dummies\n",
    "dummies_pred = pd.get_dummies(df_pred[['Home_Owner', 'Purpose_Of_Loan', 'Gender']])\n",
    "\n",
    "# Añadimos las columnas dummies \n",
    "df_post_pred = pd.concat([df_pred, dummies_pred], axis=1)\n",
    "\n",
    "# Eliminamos las columnas originales\n",
    "df_post_pred = df_post_pred.drop(['Home_Owner', 'Purpose_Of_Loan', 'Gender'], axis=1)\n",
    "\n",
    "# Creamos el conjunto X del dataframe para predecir, eliminando la variable objetivo\n",
    "X_pred = df_post_pred.drop('Interest_Rate', axis=1)\n",
    "\n",
    "# Escalamos las variables del dataframe para predecir\n",
    "X_pred = scaler.transform(X_pred)\n",
    "\n",
    "# Realizamos la predicción\n",
    "resultado = model.predict(X_pred)\n",
    "resultado_lab = np.argmax(resultado, axis=-1)+1\n",
    "\n",
    "# Unimos en el dataframe los datos a predecir con su predicción\n",
    "df_pred['PREDICCIÓN'] = pd.DataFrame(resultado_lab)\n",
    "\n",
    "# Vemos el dataframe con sus predicciones\n",
    "df_pred"
   ]
  },
  {
   "cell_type": "code",
   "execution_count": 62,
   "metadata": {},
   "outputs": [
    {
     "name": "stdout",
     "output_type": "stream",
     "text": [
      "Not normalized confusion matrix\n",
      "[[0 1 2]\n",
      " [2 8 8]\n",
      " [0 4 2]]\n"
     ]
    },
    {
     "data": {
      "image/png": "[encoded data removed]",
      "text/plain": [
       "<Figure size 640x480 with 2 Axes>"
      ]
     },
     "metadata": {},
     "output_type": "display_data"
    }
   ],
   "source": [
    "# Visualizamos la matriz de confusión con las predicciones de este dataframe\n",
    "int_rate_pred = df_pred['Interest_Rate']\n",
    "cnf_matrix_pred = confusion_matrix(int_rate_pred, resultado_lab, labels=clases)\n",
    "np.set_printoptions(precision=2)\n",
    "\n",
    "# Creamos una figura\n",
    "plt.figure()\n",
    "\n",
    "# Ejecutamos la función para generar el plot de la matriz de confusión\n",
    "plot_confusion_matrix(cnf_matrix_pred, classes=clases, title='Matriz de confusión sin normalizar')\n"
   ]
  },
  {
   "cell_type": "markdown",
   "metadata": {},
   "source": [
    "[*] *La alta cantidad de errores se debe a la baja correlación que tiene la variable objetivo con el resto de las variables*"
   ]
  },
  {
   "cell_type": "markdown",
   "metadata": {},
   "source": [
    "# Monitorización con Tensorboard"
   ]
  },
  {
   "cell_type": "markdown",
   "metadata": {},
   "source": [
    "Más información: https://www.tensorflow.org/tensorboard/"
   ]
  },
  {
   "cell_type": "code",
   "execution_count": 63,
   "metadata": {},
   "outputs": [],
   "source": [
    "# Importamos TensorBoard desde keras.callbacks\n",
    "\n",
    "from keras.callbacks import TensorBoard"
   ]
  },
  {
   "cell_type": "code",
   "execution_count": 66,
   "metadata": {},
   "outputs": [],
   "source": [
    "# Creamos un path para el log (si es Windows utilizar '\\\\', si es Linux o MacOS utilizar '\\'). \n",
    "    # Se puede crear un directorio único utilizando timestamp:\n",
    "        # timestamp = datetime.now().strftime(\"%Y-%m-%d--%H%M\")\n",
    "        # log_directory = log_directory + '\\\\' + timestamp\n",
    "\n",
    "log_directory = 'logs\\\\fit'\n",
    "\n",
    "# Creamos el objeto board instanciando a TensorBoard\n",
    "\"\"\"\n",
    "Lo que hará TensorBoard es ir guardando una imagen por cada iteración para poder visualizar posteriormente cuál ha sido la evolución y el ajuste\n",
    "de los parámetros de nuestra red neuronal\n",
    "\"\"\"\n",
    "board = TensorBoard(\n",
    "    log_dir=log_directory,\n",
    "    histogram_freq=1,\n",
    "    write_graph=True,\n",
    "    write_images=True,\n",
    "    update_freq='epoch',\n",
    "    profile_batch=2,\n",
    "    embeddings_freq=1\n",
    ")\n",
    "\n"
   ]
  },
  {
   "cell_type": "markdown",
   "metadata": {},
   "source": [
    "## Entrenamiento"
   ]
  },
  {
   "cell_type": "markdown",
   "metadata": {},
   "source": [
    "Realizamos un entrenamiento normal, como el que hicimos previamente, pero indicando board en los callbacks"
   ]
  },
  {
   "cell_type": "code",
   "execution_count": 67,
   "metadata": {},
   "outputs": [
    {
     "name": "stdout",
     "output_type": "stream",
     "text": [
      "Epoch 1/200\n",
      "482/482 [==============================] - 35s 61ms/step - loss: 0.9957 - categorical_accuracy: 0.4913 - val_loss: 0.9610 - val_categorical_accuracy: 0.5192\n",
      "Epoch 2/200\n",
      "482/482 [==============================] - 10s 21ms/step - loss: 0.9616 - categorical_accuracy: 0.5178 - val_loss: 0.9569 - val_categorical_accuracy: 0.5239\n",
      "Epoch 3/200\n",
      "482/482 [==============================] - 9s 18ms/step - loss: 0.9590 - categorical_accuracy: 0.5196 - val_loss: 0.9561 - val_categorical_accuracy: 0.5237\n",
      "Epoch 4/200\n",
      "482/482 [==============================] - 8s 16ms/step - loss: 0.9577 - categorical_accuracy: 0.5207 - val_loss: 0.9548 - val_categorical_accuracy: 0.5227\n",
      "Epoch 5/200\n",
      "482/482 [==============================] - 7s 15ms/step - loss: 0.9565 - categorical_accuracy: 0.5208 - val_loss: 0.9537 - val_categorical_accuracy: 0.5243\n",
      "Epoch 6/200\n",
      "482/482 [==============================] - 5s 10ms/step - loss: 0.9556 - categorical_accuracy: 0.5219 - val_loss: 0.9530 - val_categorical_accuracy: 0.5239\n",
      "Epoch 7/200\n",
      "482/482 [==============================] - 3s 7ms/step - loss: 0.9548 - categorical_accuracy: 0.5218 - val_loss: 0.9515 - val_categorical_accuracy: 0.5260\n",
      "Epoch 8/200\n",
      "482/482 [==============================] - 3s 7ms/step - loss: 0.9539 - categorical_accuracy: 0.5229 - val_loss: 0.9512 - val_categorical_accuracy: 0.5259\n",
      "Epoch 9/200\n",
      "482/482 [==============================] - 3s 7ms/step - loss: 0.9533 - categorical_accuracy: 0.5231 - val_loss: 0.9515 - val_categorical_accuracy: 0.5254\n",
      "Epoch 10/200\n",
      "482/482 [==============================] - 3s 7ms/step - loss: 0.9530 - categorical_accuracy: 0.5228 - val_loss: 0.9504 - val_categorical_accuracy: 0.5270\n",
      "Epoch 11/200\n",
      "482/482 [==============================] - 3s 6ms/step - loss: 0.9524 - categorical_accuracy: 0.5240 - val_loss: 0.9501 - val_categorical_accuracy: 0.5264\n",
      "Epoch 12/200\n",
      "482/482 [==============================] - 4s 8ms/step - loss: 0.9520 - categorical_accuracy: 0.5238 - val_loss: 0.9491 - val_categorical_accuracy: 0.5261\n",
      "Epoch 13/200\n",
      "482/482 [==============================] - 3s 6ms/step - loss: 0.9517 - categorical_accuracy: 0.5244 - val_loss: 0.9497 - val_categorical_accuracy: 0.5258\n",
      "Epoch 14/200\n",
      "482/482 [==============================] - 3s 6ms/step - loss: 0.9513 - categorical_accuracy: 0.5252 - val_loss: 0.9494 - val_categorical_accuracy: 0.5266\n",
      "Epoch 15/200\n",
      "482/482 [==============================] - 3s 6ms/step - loss: 0.9510 - categorical_accuracy: 0.5246 - val_loss: 0.9482 - val_categorical_accuracy: 0.5268\n",
      "Epoch 16/200\n",
      "482/482 [==============================] - 3s 5ms/step - loss: 0.9508 - categorical_accuracy: 0.5234 - val_loss: 0.9489 - val_categorical_accuracy: 0.5258\n",
      "Epoch 17/200\n",
      "482/482 [==============================] - 2s 5ms/step - loss: 0.9505 - categorical_accuracy: 0.5247 - val_loss: 0.9533 - val_categorical_accuracy: 0.5257\n",
      "Epoch 18/200\n",
      "482/482 [==============================] - 2s 5ms/step - loss: 0.9502 - categorical_accuracy: 0.5249 - val_loss: 0.9480 - val_categorical_accuracy: 0.5264\n",
      "Epoch 19/200\n",
      "482/482 [==============================] - 3s 5ms/step - loss: 0.9499 - categorical_accuracy: 0.5248 - val_loss: 0.9475 - val_categorical_accuracy: 0.5265\n",
      "Epoch 20/200\n",
      "482/482 [==============================] - 2s 5ms/step - loss: 0.9496 - categorical_accuracy: 0.5252 - val_loss: 0.9513 - val_categorical_accuracy: 0.5250\n",
      "Epoch 21/200\n",
      "482/482 [==============================] - 2s 5ms/step - loss: 0.9498 - categorical_accuracy: 0.5252 - val_loss: 0.9472 - val_categorical_accuracy: 0.5268\n",
      "Epoch 22/200\n",
      "482/482 [==============================] - 3s 5ms/step - loss: 0.9494 - categorical_accuracy: 0.5251 - val_loss: 0.9472 - val_categorical_accuracy: 0.5277\n",
      "Epoch 23/200\n",
      "482/482 [==============================] - 3s 7ms/step - loss: 0.9491 - categorical_accuracy: 0.5255 - val_loss: 0.9469 - val_categorical_accuracy: 0.5266\n",
      "Epoch 24/200\n",
      "482/482 [==============================] - 3s 7ms/step - loss: 0.9489 - categorical_accuracy: 0.5248 - val_loss: 0.9465 - val_categorical_accuracy: 0.5284\n",
      "Epoch 25/200\n",
      "482/482 [==============================] - 3s 7ms/step - loss: 0.9487 - categorical_accuracy: 0.5252 - val_loss: 0.9464 - val_categorical_accuracy: 0.5290\n",
      "Epoch 26/200\n",
      "482/482 [==============================] - 3s 6ms/step - loss: 0.9484 - categorical_accuracy: 0.5260 - val_loss: 0.9464 - val_categorical_accuracy: 0.5284\n",
      "Epoch 27/200\n",
      "482/482 [==============================] - 2s 5ms/step - loss: 0.9483 - categorical_accuracy: 0.5260 - val_loss: 0.9464 - val_categorical_accuracy: 0.5271\n",
      "Epoch 28/200\n",
      "482/482 [==============================] - 3s 6ms/step - loss: 0.9482 - categorical_accuracy: 0.5260 - val_loss: 0.9466 - val_categorical_accuracy: 0.5279\n",
      "Epoch 29/200\n",
      "482/482 [==============================] - 2s 5ms/step - loss: 0.9479 - categorical_accuracy: 0.5261 - val_loss: 0.9469 - val_categorical_accuracy: 0.5278\n",
      "Epoch 30/200\n",
      "482/482 [==============================] - 3s 5ms/step - loss: 0.9480 - categorical_accuracy: 0.5265 - val_loss: 0.9473 - val_categorical_accuracy: 0.5280\n",
      "Epoch 31/200\n",
      "482/482 [==============================] - 3s 6ms/step - loss: 0.9477 - categorical_accuracy: 0.5262 - val_loss: 0.9463 - val_categorical_accuracy: 0.5273\n",
      "Epoch 32/200\n",
      "482/482 [==============================] - 3s 6ms/step - loss: 0.9475 - categorical_accuracy: 0.5268 - val_loss: 0.9469 - val_categorical_accuracy: 0.5279\n",
      "Epoch 33/200\n",
      "482/482 [==============================] - 2s 5ms/step - loss: 0.9472 - categorical_accuracy: 0.5268 - val_loss: 0.9456 - val_categorical_accuracy: 0.5284\n",
      "Epoch 34/200\n",
      "482/482 [==============================] - 2s 5ms/step - loss: 0.9474 - categorical_accuracy: 0.5262 - val_loss: 0.9453 - val_categorical_accuracy: 0.5279\n",
      "Epoch 35/200\n",
      "482/482 [==============================] - 3s 6ms/step - loss: 0.9472 - categorical_accuracy: 0.5266 - val_loss: 0.9452 - val_categorical_accuracy: 0.5295\n",
      "Epoch 36/200\n",
      "482/482 [==============================] - 2s 5ms/step - loss: 0.9471 - categorical_accuracy: 0.5268 - val_loss: 0.9455 - val_categorical_accuracy: 0.5265\n",
      "Epoch 37/200\n",
      "482/482 [==============================] - 3s 7ms/step - loss: 0.9472 - categorical_accuracy: 0.5261 - val_loss: 0.9448 - val_categorical_accuracy: 0.5287\n",
      "Epoch 38/200\n",
      "482/482 [==============================] - 2s 5ms/step - loss: 0.9469 - categorical_accuracy: 0.5276 - val_loss: 0.9455 - val_categorical_accuracy: 0.5288\n",
      "Epoch 39/200\n",
      "482/482 [==============================] - 3s 6ms/step - loss: 0.9469 - categorical_accuracy: 0.5275 - val_loss: 0.9452 - val_categorical_accuracy: 0.5272\n",
      "Epoch 40/200\n",
      "482/482 [==============================] - 2s 5ms/step - loss: 0.9464 - categorical_accuracy: 0.5275 - val_loss: 0.9453 - val_categorical_accuracy: 0.5299\n",
      "Epoch 41/200\n",
      "482/482 [==============================] - 3s 6ms/step - loss: 0.9465 - categorical_accuracy: 0.5274 - val_loss: 0.9468 - val_categorical_accuracy: 0.5283\n",
      "Epoch 42/200\n",
      "482/482 [==============================] - 2s 5ms/step - loss: 0.9463 - categorical_accuracy: 0.5273 - val_loss: 0.9451 - val_categorical_accuracy: 0.5291\n",
      "Epoch 43/200\n",
      "482/482 [==============================] - 2s 5ms/step - loss: 0.9462 - categorical_accuracy: 0.5271 - val_loss: 0.9449 - val_categorical_accuracy: 0.5285\n",
      "Epoch 44/200\n",
      "482/482 [==============================] - 3s 5ms/step - loss: 0.9467 - categorical_accuracy: 0.5266 - val_loss: 0.9446 - val_categorical_accuracy: 0.5277\n",
      "Epoch 45/200\n",
      "482/482 [==============================] - 2s 4ms/step - loss: 0.9463 - categorical_accuracy: 0.5275 - val_loss: 0.9449 - val_categorical_accuracy: 0.5293\n",
      "Epoch 46/200\n",
      "482/482 [==============================] - 3s 6ms/step - loss: 0.9460 - categorical_accuracy: 0.5271 - val_loss: 0.9455 - val_categorical_accuracy: 0.5271\n",
      "Epoch 47/200\n",
      "482/482 [==============================] - 3s 6ms/step - loss: 0.9458 - categorical_accuracy: 0.5281 - val_loss: 0.9450 - val_categorical_accuracy: 0.5274\n",
      "Epoch 48/200\n",
      "482/482 [==============================] - 3s 6ms/step - loss: 0.9459 - categorical_accuracy: 0.5275 - val_loss: 0.9454 - val_categorical_accuracy: 0.5265\n",
      "Epoch 49/200\n",
      "482/482 [==============================] - 3s 5ms/step - loss: 0.9457 - categorical_accuracy: 0.5272 - val_loss: 0.9451 - val_categorical_accuracy: 0.5296\n",
      "Epoch 50/200\n",
      "482/482 [==============================] - 2s 5ms/step - loss: 0.9461 - categorical_accuracy: 0.5274 - val_loss: 0.9449 - val_categorical_accuracy: 0.5272\n",
      "Epoch 51/200\n",
      "482/482 [==============================] - 3s 7ms/step - loss: 0.9457 - categorical_accuracy: 0.5273 - val_loss: 0.9445 - val_categorical_accuracy: 0.5288\n",
      "Epoch 52/200\n",
      "482/482 [==============================] - 2s 5ms/step - loss: 0.9457 - categorical_accuracy: 0.5280 - val_loss: 0.9448 - val_categorical_accuracy: 0.5277\n",
      "Epoch 53/200\n",
      "482/482 [==============================] - 3s 6ms/step - loss: 0.9456 - categorical_accuracy: 0.5274 - val_loss: 0.9446 - val_categorical_accuracy: 0.5287\n",
      "Epoch 54/200\n",
      "482/482 [==============================] - 2s 5ms/step - loss: 0.9454 - categorical_accuracy: 0.5270 - val_loss: 0.9442 - val_categorical_accuracy: 0.5299\n",
      "Epoch 55/200\n",
      "482/482 [==============================] - 3s 5ms/step - loss: 0.9454 - categorical_accuracy: 0.5276 - val_loss: 0.9475 - val_categorical_accuracy: 0.5282\n",
      "Epoch 56/200\n",
      "482/482 [==============================] - 2s 5ms/step - loss: 0.9454 - categorical_accuracy: 0.5272 - val_loss: 0.9452 - val_categorical_accuracy: 0.5289\n",
      "Epoch 57/200\n",
      "482/482 [==============================] - 3s 5ms/step - loss: 0.9452 - categorical_accuracy: 0.5275 - val_loss: 0.9444 - val_categorical_accuracy: 0.5296\n",
      "Epoch 58/200\n",
      "482/482 [==============================] - 3s 6ms/step - loss: 0.9453 - categorical_accuracy: 0.5273 - val_loss: 0.9446 - val_categorical_accuracy: 0.5291\n",
      "Epoch 59/200\n",
      "482/482 [==============================] - 3s 5ms/step - loss: 0.9448 - categorical_accuracy: 0.5278 - val_loss: 0.9443 - val_categorical_accuracy: 0.5292\n",
      "Epoch 60/200\n",
      "482/482 [==============================] - 3s 7ms/step - loss: 0.9454 - categorical_accuracy: 0.5272 - val_loss: 0.9443 - val_categorical_accuracy: 0.5299\n",
      "Epoch 61/200\n",
      "482/482 [==============================] - 3s 6ms/step - loss: 0.9449 - categorical_accuracy: 0.5277 - val_loss: 0.9443 - val_categorical_accuracy: 0.5289\n",
      "Epoch 62/200\n",
      "482/482 [==============================] - 2s 5ms/step - loss: 0.9446 - categorical_accuracy: 0.5283 - val_loss: 0.9457 - val_categorical_accuracy: 0.5300\n",
      "Epoch 63/200\n",
      "482/482 [==============================] - 3s 6ms/step - loss: 0.9446 - categorical_accuracy: 0.5282 - val_loss: 0.9443 - val_categorical_accuracy: 0.5288\n",
      "Epoch 64/200\n",
      "482/482 [==============================] - 2s 5ms/step - loss: 0.9448 - categorical_accuracy: 0.5278 - val_loss: 0.9447 - val_categorical_accuracy: 0.5274\n",
      "Epoch 65/200\n",
      "482/482 [==============================] - 3s 6ms/step - loss: 0.9446 - categorical_accuracy: 0.5279 - val_loss: 0.9441 - val_categorical_accuracy: 0.5295\n",
      "Epoch 66/200\n",
      "482/482 [==============================] - 2s 5ms/step - loss: 0.9445 - categorical_accuracy: 0.5285 - val_loss: 0.9442 - val_categorical_accuracy: 0.5291\n",
      "Epoch 67/200\n",
      "482/482 [==============================] - 3s 6ms/step - loss: 0.9444 - categorical_accuracy: 0.5284 - val_loss: 0.9440 - val_categorical_accuracy: 0.5296\n",
      "Epoch 68/200\n",
      "482/482 [==============================] - 3s 5ms/step - loss: 0.9446 - categorical_accuracy: 0.5281 - val_loss: 0.9452 - val_categorical_accuracy: 0.5292\n",
      "Epoch 69/200\n",
      "482/482 [==============================] - 2s 4ms/step - loss: 0.9444 - categorical_accuracy: 0.5281 - val_loss: 0.9447 - val_categorical_accuracy: 0.5292\n",
      "Epoch 70/200\n",
      "482/482 [==============================] - 3s 6ms/step - loss: 0.9442 - categorical_accuracy: 0.5283 - val_loss: 0.9452 - val_categorical_accuracy: 0.5302\n",
      "Epoch 71/200\n",
      "482/482 [==============================] - 2s 5ms/step - loss: 0.9441 - categorical_accuracy: 0.5288 - val_loss: 0.9436 - val_categorical_accuracy: 0.5294\n",
      "Epoch 72/200\n",
      "482/482 [==============================] - 3s 7ms/step - loss: 0.9440 - categorical_accuracy: 0.5289 - val_loss: 0.9439 - val_categorical_accuracy: 0.5293\n",
      "Epoch 73/200\n",
      "482/482 [==============================] - 3s 5ms/step - loss: 0.9442 - categorical_accuracy: 0.5282 - val_loss: 0.9456 - val_categorical_accuracy: 0.5284\n",
      "Epoch 74/200\n",
      "482/482 [==============================] - 3s 6ms/step - loss: 0.9441 - categorical_accuracy: 0.5290 - val_loss: 0.9442 - val_categorical_accuracy: 0.5289\n",
      "Epoch 75/200\n",
      "482/482 [==============================] - 2s 4ms/step - loss: 0.9442 - categorical_accuracy: 0.5282 - val_loss: 0.9455 - val_categorical_accuracy: 0.5281\n",
      "Epoch 76/200\n",
      "482/482 [==============================] - 3s 5ms/step - loss: 0.9439 - categorical_accuracy: 0.5284 - val_loss: 0.9442 - val_categorical_accuracy: 0.5285\n",
      "Epoch 77/200\n",
      "482/482 [==============================] - 3s 6ms/step - loss: 0.9440 - categorical_accuracy: 0.5277 - val_loss: 0.9454 - val_categorical_accuracy: 0.5281\n",
      "Epoch 78/200\n",
      "482/482 [==============================] - 2s 5ms/step - loss: 0.9439 - categorical_accuracy: 0.5276 - val_loss: 0.9442 - val_categorical_accuracy: 0.5296\n",
      "Epoch 79/200\n",
      "482/482 [==============================] - 3s 6ms/step - loss: 0.9439 - categorical_accuracy: 0.5288 - val_loss: 0.9440 - val_categorical_accuracy: 0.5297\n",
      "Epoch 80/200\n",
      "482/482 [==============================] - 2s 4ms/step - loss: 0.9437 - categorical_accuracy: 0.5283 - val_loss: 0.9437 - val_categorical_accuracy: 0.5289\n",
      "Epoch 81/200\n",
      "482/482 [==============================] - 2s 4ms/step - loss: 0.9438 - categorical_accuracy: 0.5288 - val_loss: 0.9444 - val_categorical_accuracy: 0.5291\n",
      "Epoch 82/200\n",
      "482/482 [==============================] - 2s 5ms/step - loss: 0.9439 - categorical_accuracy: 0.5279 - val_loss: 0.9440 - val_categorical_accuracy: 0.5289\n",
      "Epoch 83/200\n",
      "482/482 [==============================] - 2s 4ms/step - loss: 0.9437 - categorical_accuracy: 0.5286 - val_loss: 0.9438 - val_categorical_accuracy: 0.5283\n",
      "Epoch 84/200\n",
      "482/482 [==============================] - 2s 4ms/step - loss: 0.9435 - categorical_accuracy: 0.5287 - val_loss: 0.9440 - val_categorical_accuracy: 0.5291\n",
      "Epoch 85/200\n",
      "482/482 [==============================] - 3s 5ms/step - loss: 0.9436 - categorical_accuracy: 0.5291 - val_loss: 0.9436 - val_categorical_accuracy: 0.5304\n",
      "Epoch 86/200\n",
      "482/482 [==============================] - 2s 5ms/step - loss: 0.9439 - categorical_accuracy: 0.5288 - val_loss: 0.9438 - val_categorical_accuracy: 0.5282\n",
      "Epoch 86: early stopping\n"
     ]
    },
    {
     "data": {
      "text/plain": [
       "<keras.callbacks.History at 0x1b4527f3bb0>"
      ]
     },
     "execution_count": 67,
     "metadata": {},
     "output_type": "execute_result"
    }
   ],
   "source": [
    "# Creamos un modelo secuencial\n",
    "model = Sequential()\n",
    "\n",
    "# Iteramos una variable con un número de neuronas igual a la cantidad de variables de entrada\n",
    "num_neuronas = X_train.shape[1]\n",
    "\n",
    "# Iteramos una variable con un número de neuronas igual a la cantidad de categorías a predecir\n",
    "num_neuronas_salida = len(df['Interest_Rate'].unique())\n",
    "\n",
    "# Creamos una capa oculta con una neurona por cada variable de entrada con función de activación ReLu\n",
    "model.add(Dense(units=num_neuronas, activation='relu'))\n",
    "\n",
    "# Creamos otra capa oculta con la mitad de neuronas (suele hacerse para acelerar el entrenamiento) con función de activación ReLu\n",
    "model.add(Dense(units=num_neuronas/2, activation='relu'))\n",
    "\n",
    "# Creamos una capa de salida con una neurona por cada variable de salida con función de activación Softmax (recomendada para clasificación multiclase)\n",
    "model.add(Dense(units=num_neuronas_salida, activation='softmax'))\n",
    "\n",
    "# Compilamos el modelo con optimizador adam, categorical_crossentropy en las pérdidas y como métrica categorical_accuracy\n",
    "model.compile(optimizer='adam', loss='categorical_crossentropy', metrics=['categorical_accuracy'])\n",
    "\n",
    "# Ajustamos nuestro modelo a los conjuntos de entrenamiento, con 200 epochs y un tamaño de batch de 256 haciendo llamado a early_stop\n",
    "model.fit(\n",
    "    x=X_train,\n",
    "    y=y_train,\n",
    "    epochs=200,\n",
    "    batch_size=256,\n",
    "    validation_data=(X_test, y_test),\n",
    "    callbacks=[early_stop, board],\n",
    "    verbose=1\n",
    ")"
   ]
  },
  {
   "cell_type": "markdown",
   "metadata": {},
   "source": [
    "## Ejecutar Tensorboard"
   ]
  },
  {
   "cell_type": "markdown",
   "metadata": {},
   "source": [
    "Tensorboard estará operativa localmente en http://localhost:6006/\n",
    "\n",
    "Debemos abrir cmd, dirigirnos hasta la ruta del fichero py (pwd) y ejecutar: tensorboard --logdir logs\\fit"
   ]
  },
  {
   "cell_type": "code",
   "execution_count": 68,
   "metadata": {},
   "outputs": [
    {
     "data": {
      "text/plain": [
       "'c:\\\\Users\\\\pety2\\\\OneDrive\\\\Documentos\\\\Programacion\\\\Python\\\\Master IA'"
      ]
     },
     "execution_count": 68,
     "metadata": {},
     "output_type": "execute_result"
    }
   ],
   "source": [
    "# Ver la ruta del fichero\n",
    "pwd"
   ]
  }
 ],
 "metadata": {
  "kernelspec": {
   "display_name": "Python 3.10.2 64-bit",
   "language": "python",
   "name": "python3"
  },
  "language_info": {
   "codemirror_mode": {
    "name": "ipython",
    "version": 3
   },
   "file_extension": ".py",
   "mimetype": "text/x-python",
   "name": "python",
   "nbconvert_exporter": "python",
   "pygments_lexer": "ipython3",
   "version": "3.10.2"
  },
  "orig_nbformat": 4,
  "vscode": {
   "interpreter": {
    "hash": "26de051ba29f2982a8de78e945f0abaf191376122a1563185a90213a26c5da77"
   }
  }
 },
 "nbformat": 4,
 "nbformat_minor": 2
}
